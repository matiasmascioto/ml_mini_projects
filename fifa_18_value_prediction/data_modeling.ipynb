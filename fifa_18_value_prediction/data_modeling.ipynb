{
 "cells": [
  {
   "cell_type": "markdown",
   "metadata": {},
   "source": [
    "# Fifa 18 Value Prediction\n",
    "## Data Modeling\n",
    "\n",
    "### Table of Contents\n",
    "\n",
    "1. [Data Preparation](#preparation)\n",
    "    1. [Load the data](#load)\n",
    "    2. [Prepare the data](#prepare)\n",
    "    3. [Feature selection](#feature_selection)\n",
    "    4. [Train and test split](#split)\n",
    "2. [Data Modeling](#modeling)\n",
    "    1. [Linear Regression Model](#linear_regression)\n",
    "    2. [Polynomial Regression Model](#polynomial_regression)\n",
    "    3. [Lasso Regression](#lasso_regression)\n",
    "    4. [Linear Regression Model (TensorFlow)](#linear_regression_tf)\n",
    "3. [Model Evaluation](#evaluation)\n",
    "    1. [RMSE](#rmse)\n",
    "    2. [Cross Validation](#cross_validation)\n",
    "    3. [Learning Curves](#learning_curves)\n",
    "4. [Export the results](#export)"
   ]
  },
  {
   "cell_type": "code",
   "execution_count": 1,
   "metadata": {},
   "outputs": [],
   "source": [
    "# Imports\n",
    "import math\n",
    "import matplotlib.pyplot as plt\n",
    "import numpy as np\n",
    "import os\n",
    "import pandas as pd\n",
    "import tensorflow as tf\n",
    "from IPython.display import display, Markdown as md\n",
    "from sklearn.feature_selection import SelectKBest, f_regression\n",
    "from sklearn.linear_model import LinearRegression, Lasso\n",
    "from sklearn.metrics import mean_squared_error\n",
    "from sklearn.model_selection import train_test_split, cross_val_score\n",
    "from sklearn.preprocessing import PolynomialFeatures\n",
    "\n",
    "# Config\n",
    "# %matplotlib notebook\n",
    "%matplotlib inline\n",
    "pd.options.display.max_columns = None"
   ]
  },
  {
   "cell_type": "markdown",
   "metadata": {},
   "source": [
    "## Data Preparation <a id=\"preparation\"></a>\n",
    "### Load the data <a id=\"load\"></a>\n",
    "Loads *.csv* file (without *outliers* in *Value* and *Wage*) into *pandas DataFrame*"
   ]
  },
  {
   "cell_type": "code",
   "execution_count": 2,
   "metadata": {},
   "outputs": [],
   "source": [
    "df_model = pd.read_csv(\"data/processed/CompleteDataset_cleaned_iqr.csv\", sep=\";\")"
   ]
  },
  {
   "cell_type": "markdown",
   "metadata": {},
   "source": [
    "### Prepare the data <a id=\"prepare\"></a>\n",
    "To simplify the model, let's exclude the goalkeepers (*GK*), so we don't have to deal with *null* values. Also, deletes rows where *Value* is 0."
   ]
  },
  {
   "cell_type": "code",
   "execution_count": 3,
   "metadata": {},
   "outputs": [],
   "source": [
    "exclude_GK = df_model[\"Preferred Position_GK\"] == 0\n",
    "exclude_value_0 = df_model[\"Value\"] > 0\n",
    "df_model = df_model[exclude_GK & exclude_value_0]\n",
    "\n",
    "\n",
    "df_model.reset_index(inplace=True)\n",
    "names = df_model[\"Name\"].copy()\n",
    "df_model = df_model.drop(\"Name\", axis=\"columns\")"
   ]
  },
  {
   "cell_type": "code",
   "execution_count": 4,
   "metadata": {},
   "outputs": [
    {
     "name": "stdout",
     "output_type": "stream",
     "text": [
      "X type: <class 'numpy.ndarray'> - X shape: (12992, 82)\n",
      "y type: <class 'numpy.ndarray'> - y shape: (12992, 1)\n"
     ]
    }
   ],
   "source": [
    "# Define 'target' and 'features'\n",
    "target = \"Value\"\n",
    "features = df_model.columns.values\n",
    "features = features[features != target]\n",
    "\n",
    "X = df_model.loc[:, features].values\n",
    "y = df_model.loc[:, [target]].values\n",
    "\n",
    "print(\"X type: {0} - X shape: {1}\".format(type(X), X.shape))\n",
    "print(\"y type: {0} - y shape: {1}\".format(type(y), y.shape))"
   ]
  },
  {
   "cell_type": "markdown",
   "metadata": {},
   "source": [
    "### Feature selection<a id=\"feature_selection\"></a>\n",
    "Let's apply a *feature selection* method in order to reduce the number of attributes in the dataset. Fewer attributes is desirable because it reduces the complexity of the model, and a simpler model is simpler to understand and explain. Also, this reduces the training time."
   ]
  },
  {
   "cell_type": "code",
   "execution_count": 5,
   "metadata": {},
   "outputs": [
    {
     "name": "stderr",
     "output_type": "stream",
     "text": [
      "c:\\users\\matias\\miniconda3\\lib\\site-packages\\sklearn\\feature_selection\\univariate_selection.py:299: RuntimeWarning: invalid value encountered in true_divide\n",
      "  corr /= X_norms\n",
      "c:\\users\\matias\\miniconda3\\lib\\site-packages\\scipy\\stats\\_distn_infrastructure.py:877: RuntimeWarning: invalid value encountered in greater\n",
      "  return (self.a < x) & (x < self.b)\n",
      "c:\\users\\matias\\miniconda3\\lib\\site-packages\\scipy\\stats\\_distn_infrastructure.py:877: RuntimeWarning: invalid value encountered in less\n",
      "  return (self.a < x) & (x < self.b)\n",
      "c:\\users\\matias\\miniconda3\\lib\\site-packages\\scipy\\stats\\_distn_infrastructure.py:1831: RuntimeWarning: invalid value encountered in less_equal\n",
      "  cond2 = cond0 & (x <= self.a)\n"
     ]
    },
    {
     "data": {
      "text/markdown": [
       "*X* shape: (12992, 20)"
      ],
      "text/plain": [
       "<IPython.core.display.Markdown object>"
      ]
     },
     "metadata": {},
     "output_type": "display_data"
    }
   ],
   "source": [
    "# Here we prioritize reducing training time instead of model accuracy\n",
    "feature_selector = SelectKBest(f_regression, k=20) # Select the best 'k' features based on 'f_regression'\n",
    "\n",
    "X = feature_selector.fit_transform(X, y.ravel())\n",
    "features_selected = feature_selector.get_support() # Boolean array\n",
    "\n",
    "display(md(\"*X* shape: {0}\".format(X.shape)))\n",
    "\n",
    "features = features[features_selected] # Update 'features'"
   ]
  },
  {
   "cell_type": "markdown",
   "metadata": {},
   "source": [
    "### Train and test split <a id=\"split\"></a>\n",
    "Splits the dataset into a *train set* (80%) and *test set* (20%)"
   ]
  },
  {
   "cell_type": "code",
   "execution_count": 6,
   "metadata": {},
   "outputs": [
    {
     "data": {
      "text/markdown": [
       "*X_train* shape: (10393, 20) - *X_test* shape: (2599, 20)"
      ],
      "text/plain": [
       "<IPython.core.display.Markdown object>"
      ]
     },
     "metadata": {},
     "output_type": "display_data"
    },
    {
     "data": {
      "text/markdown": [
       "*y_train* shape: (10393, 1) - *y_test* shape: (2599, 1)"
      ],
      "text/plain": [
       "<IPython.core.display.Markdown object>"
      ]
     },
     "metadata": {},
     "output_type": "display_data"
    }
   ],
   "source": [
    "X_train, X_test, y_train, y_test, index_train, index_test = train_test_split(X, y, names.index.values, test_size=0.2, random_state=42)\n",
    "\n",
    "display(md(\"*X_train* shape: {0} - *X_test* shape: {1}\".format(X_train.shape, X_test.shape)))\n",
    "display(md(\"*y_train* shape: {0} - *y_test* shape: {1}\".format(y_train.shape, y_test.shape)))"
   ]
  },
  {
   "cell_type": "markdown",
   "metadata": {},
   "source": [
    "## Data Modeling <a id=\"modeling\"></a>\n",
    "### Linear Regression Model <a id=\"linear_regression\"></a>\n",
    "Creates and fits the model"
   ]
  },
  {
   "cell_type": "code",
   "execution_count": 7,
   "metadata": {},
   "outputs": [],
   "source": [
    "lin_reg = LinearRegression(fit_intercept=True, normalize=False)\n",
    "lin_reg.fit(X_train, y_train);"
   ]
  },
  {
   "cell_type": "markdown",
   "metadata": {},
   "source": [
    "Let's visualize the highest *Linear Regression coefficients*"
   ]
  },
  {
   "cell_type": "code",
   "execution_count": 8,
   "metadata": {},
   "outputs": [
    {
     "data": {
      "image/png": "[encoded data removed]",
      "text/plain": [
       "<Figure size 432x288 with 1 Axes>"
      ]
     },
     "metadata": {
      "needs_background": "light"
     },
     "output_type": "display_data"
    }
   ],
   "source": [
    "# Create new DataFrame with the coefficients per each feature\n",
    "coeff_df = pd.DataFrame(data=lin_reg.coef_[0], index=features, columns=[\"coeff\"])\n",
    "coeff_df.sort_values(by=\"coeff\", ascending=False, inplace=True) # Sort 'coeff_df' in descending order\n",
    "\n",
    "coeff_df.iloc[0:20].sort_values(by=\"coeff\").plot.barh();"
   ]
  },
  {
   "cell_type": "code",
   "execution_count": 9,
   "metadata": {},
   "outputs": [
    {
     "data": {
      "text/plain": [
       "'Independent term: 3534568.8697356945'"
      ]
     },
     "metadata": {},
     "output_type": "display_data"
    },
    {
     "data": {
      "text/plain": [
       "'Prediction result made with an array of zeros: [[3534568.86973569]]'"
      ]
     },
     "metadata": {},
     "output_type": "display_data"
    }
   ],
   "source": [
    "display(\"Independent term: {0}\".format(lin_reg.intercept_[0]))\n",
    "\n",
    "# If all the features values are 0, the predictions must be equal to the independent term. Let's check this!\n",
    "X_zeros = np.zeros(shape=(1, X_train.shape[1]))\n",
    "display(\"Prediction result made with an array of zeros: {}\".format(lin_reg.predict(X_zeros)))"
   ]
  },
  {
   "cell_type": "markdown",
   "metadata": {},
   "source": [
    "Saves the prediction in *predictions_lin_reg*"
   ]
  },
  {
   "cell_type": "code",
   "execution_count": 10,
   "metadata": {},
   "outputs": [],
   "source": [
    "predictions_lin_reg = lin_reg.predict(X_test)"
   ]
  },
  {
   "cell_type": "markdown",
   "metadata": {},
   "source": [
    "### Polynomial Regression Model <a id=\"polynomial_regression\"></a>\n",
    "A simple way to use a linear model to fit nonlinear data is to add powers of each feature as new features, and then train a linear model on this extended set of features."
   ]
  },
  {
   "cell_type": "code",
   "execution_count": 11,
   "metadata": {},
   "outputs": [],
   "source": [
    "d = 2 # Polynomial degree\n",
    "poly_features = PolynomialFeatures(degree=d, include_bias=False)\n",
    "\n",
    "# Add the square of each feature and the combinations of features up to 2 degree\n",
    "X_train_poly = poly_features.fit_transform(X_train)\n",
    "X_test_poly = poly_features.fit_transform(X_test)"
   ]
  },
  {
   "cell_type": "markdown",
   "metadata": {},
   "source": [
    "The number of features created by *PolynomialFeatures* can be calculated with the following equation:\n",
    "\n",
    "\\begin{align}\n",
    "\\frac{(n + d)!}{d!n!}\\\n",
    "\\end{align}"
   ]
  },
  {
   "cell_type": "code",
   "execution_count": 12,
   "metadata": {},
   "outputs": [
    {
     "data": {
      "text/markdown": [
       "*X_train_poly* should now have 230 features"
      ],
      "text/plain": [
       "<IPython.core.display.Markdown object>"
      ]
     },
     "metadata": {},
     "output_type": "display_data"
    },
    {
     "data": {
      "text/markdown": [
       "*X* shape: (12992, 20)"
      ],
      "text/plain": [
       "<IPython.core.display.Markdown object>"
      ]
     },
     "metadata": {},
     "output_type": "display_data"
    },
    {
     "data": {
      "text/markdown": [
       "*X_train_poly* shape: (10393, 230)"
      ],
      "text/plain": [
       "<IPython.core.display.Markdown object>"
      ]
     },
     "metadata": {},
     "output_type": "display_data"
    },
    {
     "data": {
      "text/markdown": [
       "*X_test_poly* shape: (2599, 230)"
      ],
      "text/plain": [
       "<IPython.core.display.Markdown object>"
      ]
     },
     "metadata": {},
     "output_type": "display_data"
    }
   ],
   "source": [
    "n = X.shape[1]\n",
    "poly_features_count = int(math.factorial(n + d) / (math.factorial(d) * math.factorial(n))) - 1\n",
    "\n",
    "display(md(\"*X_train_poly* should now have {0} features\".format(poly_features_count)))\n",
    "\n",
    "display(md(\"*X* shape: {0}\".format(X.shape)))\n",
    "display(md(\"*X_train_poly* shape: {0}\".format(X_train_poly.shape)))\n",
    "display(md(\"*X_test_poly* shape: {0}\".format(X_test_poly.shape)))"
   ]
  },
  {
   "cell_type": "code",
   "execution_count": 13,
   "metadata": {},
   "outputs": [],
   "source": [
    "poly_reg = LinearRegression()\n",
    "poly_reg.fit(X_train_poly, y_train)\n",
    "predictions_poly = poly_reg.predict(X_test_poly)"
   ]
  },
  {
   "cell_type": "markdown",
   "metadata": {},
   "source": [
    "### Lasso Regression<a id=\"lasso_regression\"></a>\n",
    "Is a regularized version of *Linear Regression*. It adds a regularization term to the cost function. This forces the learning algorithm to not only fit the data but also keep the model weights as small as possible."
   ]
  },
  {
   "cell_type": "code",
   "execution_count": 14,
   "metadata": {},
   "outputs": [
    {
     "name": "stderr",
     "output_type": "stream",
     "text": [
      "c:\\users\\matias\\miniconda3\\lib\\site-packages\\sklearn\\linear_model\\coordinate_descent.py:492: ConvergenceWarning: Objective did not converge. You might want to increase the number of iterations. Fitting data with very small alpha may cause precision problems.\n",
      "  ConvergenceWarning)\n"
     ]
    }
   ],
   "source": [
    "lasso_reg = Lasso(alpha=2, max_iter=2000)\n",
    "lasso_reg.fit(X_train_poly, y_train)\n",
    "predictions_lasso = lasso_reg.predict(X_test_poly)"
   ]
  },
  {
   "cell_type": "markdown",
   "metadata": {},
   "source": [
    "### Linear Regression Model (TensorFlow)<a id=\"linear_regression_tf\"></a>\n",
    "Let´s make a *Linear Regression* with *TensorFlow* library."
   ]
  },
  {
   "cell_type": "code",
   "execution_count": 15,
   "metadata": {},
   "outputs": [],
   "source": [
    "tf.reset_default_graph()\n",
    "\n",
    "n_epochs = 10000\n",
    "learning_rate = 0.00000001\n",
    "\n",
    "X_train_tf = np.c_[np.ones((X_train.shape[0], 1)), X_train]\n",
    "\n",
    "# 'y_pred_tf' = 'X_tf' * 'theta'\n",
    "X_tf = tf.constant(X_train_tf, dtype=tf.float32, name=\"X\")\n",
    "theta = tf.Variable(tf.random_uniform([n + 1, 1], -1.0, 1.0, seed=42), name=\"theta\")\n",
    "y_pred_tf = tf.matmul(X_tf, theta, name=\"predictions\")\n",
    "\n",
    "# Calculates the error ('y_pred_tf' - 'y_tf')\n",
    "y_tf = tf.constant(y_train, dtype=tf.float32, name=\"y\")\n",
    "error = y_pred_tf - y_tf\n",
    "mse = tf.reduce_mean(tf.square(error), name=\"mse\")"
   ]
  },
  {
   "cell_type": "code",
   "execution_count": 16,
   "metadata": {},
   "outputs": [],
   "source": [
    "# Minimizes the MSE with Gradient Descent\n",
    "optimizer = tf.train.GradientDescentOptimizer(learning_rate=learning_rate)\n",
    "training_op = optimizer.minimize(mse)"
   ]
  },
  {
   "cell_type": "code",
   "execution_count": 17,
   "metadata": {},
   "outputs": [
    {
     "name": "stdout",
     "output_type": "stream",
     "text": [
      "Epoch 0 - RMSE: 1316996.375\n",
      "Epoch 1000 - RMSE: 591579.25\n",
      "Epoch 2000 - RMSE: 591455.0625\n",
      "Epoch 3000 - RMSE: 591332.5\n",
      "Epoch 4000 - RMSE: 591210.3125\n",
      "Epoch 5000 - RMSE: 591088.6875\n",
      "Epoch 6000 - RMSE: 590967.375\n",
      "Epoch 7000 - RMSE: 590846.5625\n",
      "Epoch 8000 - RMSE: 590726.1875\n",
      "Epoch 9000 - RMSE: 590606.375\n"
     ]
    }
   ],
   "source": [
    "init = tf.global_variables_initializer()\n",
    "\n",
    "with tf.Session() as sess:\n",
    "    sess.run(init)\n",
    "\n",
    "    for epoch in range(n_epochs):\n",
    "        if epoch % 1000 == 0:\n",
    "            print(\"Epoch {0} - RMSE: {1}\".format(epoch, np.sqrt(mse.eval())))\n",
    "        sess.run(training_op)\n",
    "    \n",
    "    best_theta = theta.eval()"
   ]
  },
  {
   "cell_type": "code",
   "execution_count": 18,
   "metadata": {},
   "outputs": [],
   "source": [
    "X_test_tf = np.c_[np.ones((X_test.shape[0], 1)), X_test]\n",
    "\n",
    "# Makes the predictions: 'X_test_tf' * 'best_theta'\n",
    "predictions_lin_reg_tf = np.matmul(X_test_tf, best_theta)"
   ]
  },
  {
   "cell_type": "markdown",
   "metadata": {},
   "source": [
    "## Model Evaluation <a id=\"evaluation\"></a>\n",
    "### RMSE <a id=\"rmse\"></a>"
   ]
  },
  {
   "cell_type": "code",
   "execution_count": 19,
   "metadata": {},
   "outputs": [
    {
     "data": {
      "text/markdown": [
       "**Linear Regression - Root Mean Squared Error: €544,665**"
      ],
      "text/plain": [
       "<IPython.core.display.Markdown object>"
      ]
     },
     "metadata": {},
     "output_type": "display_data"
    },
    {
     "data": {
      "text/markdown": [
       "**Polynomial Regression - Root Mean Squared Error: €344,593**"
      ],
      "text/plain": [
       "<IPython.core.display.Markdown object>"
      ]
     },
     "metadata": {},
     "output_type": "display_data"
    },
    {
     "data": {
      "text/markdown": [
       "**Lasso Regression - Root Mean Squared Error: €341,774**"
      ],
      "text/plain": [
       "<IPython.core.display.Markdown object>"
      ]
     },
     "metadata": {},
     "output_type": "display_data"
    },
    {
     "data": {
      "text/markdown": [
       "**Linear Regression (TensorFlow) - Root Mean Squared Error: €606,079**"
      ],
      "text/plain": [
       "<IPython.core.display.Markdown object>"
      ]
     },
     "metadata": {},
     "output_type": "display_data"
    }
   ],
   "source": [
    "lin_mse = mean_squared_error(predictions_lin_reg, y_test)\n",
    "poly_mse = mean_squared_error(predictions_poly, y_test)\n",
    "lasso_mse = mean_squared_error(predictions_lasso, y_test)\n",
    "lin_reg_tf_mse = mean_squared_error(predictions_lin_reg_tf, y_test)\n",
    "lin_rmse = np.sqrt(lin_mse)\n",
    "poly_rmse = np.sqrt(poly_mse)\n",
    "lasso_rmse = np.sqrt(lasso_mse)\n",
    "lin_reg_tf_rmse = np.sqrt(lin_reg_tf_mse)\n",
    "\n",
    "display(md(\"**Linear Regression - Root Mean Squared Error: €{0:,}**\".format(int(lin_rmse))))\n",
    "display(md(\"**Polynomial Regression - Root Mean Squared Error: €{0:,}**\".format(int(poly_rmse))))\n",
    "display(md(\"**Lasso Regression - Root Mean Squared Error: €{0:,}**\".format(int(lasso_rmse))))\n",
    "display(md(\"**Linear Regression (TensorFlow) - Root Mean Squared Error: €{0:,}**\".format(int(lin_reg_tf_rmse))))"
   ]
  },
  {
   "cell_type": "markdown",
   "metadata": {},
   "source": [
    "### Cross Validation <a id=\"cross_validation\"></a>\n",
    "Let's apply *K Fold Cross Validation* to get a more accurate estimate of model prediction performance."
   ]
  },
  {
   "cell_type": "code",
   "execution_count": 20,
   "metadata": {},
   "outputs": [
    {
     "name": "stderr",
     "output_type": "stream",
     "text": [
      "c:\\users\\matias\\miniconda3\\lib\\site-packages\\sklearn\\linear_model\\coordinate_descent.py:492: ConvergenceWarning: Objective did not converge. You might want to increase the number of iterations. Fitting data with very small alpha may cause precision problems.\n",
      "  ConvergenceWarning)\n",
      "c:\\users\\matias\\miniconda3\\lib\\site-packages\\sklearn\\linear_model\\coordinate_descent.py:492: ConvergenceWarning: Objective did not converge. You might want to increase the number of iterations. Fitting data with very small alpha may cause precision problems.\n",
      "  ConvergenceWarning)\n",
      "c:\\users\\matias\\miniconda3\\lib\\site-packages\\sklearn\\linear_model\\coordinate_descent.py:492: ConvergenceWarning: Objective did not converge. You might want to increase the number of iterations. Fitting data with very small alpha may cause precision problems.\n",
      "  ConvergenceWarning)\n",
      "c:\\users\\matias\\miniconda3\\lib\\site-packages\\sklearn\\linear_model\\coordinate_descent.py:492: ConvergenceWarning: Objective did not converge. You might want to increase the number of iterations. Fitting data with very small alpha may cause precision problems.\n",
      "  ConvergenceWarning)\n",
      "c:\\users\\matias\\miniconda3\\lib\\site-packages\\sklearn\\linear_model\\coordinate_descent.py:492: ConvergenceWarning: Objective did not converge. You might want to increase the number of iterations. Fitting data with very small alpha may cause precision problems.\n",
      "  ConvergenceWarning)\n"
     ]
    },
    {
     "data": {
      "text/markdown": [
       "**Linear Regression Model**"
      ],
      "text/plain": [
       "<IPython.core.display.Markdown object>"
      ]
     },
     "metadata": {},
     "output_type": "display_data"
    },
    {
     "data": {
      "text/markdown": [
       "Scores: [524788.1827583  542831.26003838 545928.23357984 536251.44334574\n",
       " 525476.48703859]"
      ],
      "text/plain": [
       "<IPython.core.display.Markdown object>"
      ]
     },
     "metadata": {},
     "output_type": "display_data"
    },
    {
     "data": {
      "text/markdown": [
       "Mean: 535,055.12"
      ],
      "text/plain": [
       "<IPython.core.display.Markdown object>"
      ]
     },
     "metadata": {},
     "output_type": "display_data"
    },
    {
     "data": {
      "text/markdown": [
       "Standard deviation: 8,686.59"
      ],
      "text/plain": [
       "<IPython.core.display.Markdown object>"
      ]
     },
     "metadata": {},
     "output_type": "display_data"
    },
    {
     "data": {
      "text/markdown": [
       "**Polynomial Regression Model**"
      ],
      "text/plain": [
       "<IPython.core.display.Markdown object>"
      ]
     },
     "metadata": {},
     "output_type": "display_data"
    },
    {
     "data": {
      "text/markdown": [
       "Scores: [307639.1492486  312617.55711013 325094.04118742 332221.95703265\n",
       " 320110.10931071]"
      ],
      "text/plain": [
       "<IPython.core.display.Markdown object>"
      ]
     },
     "metadata": {},
     "output_type": "display_data"
    },
    {
     "data": {
      "text/markdown": [
       "Mean: 319,536.56"
      ],
      "text/plain": [
       "<IPython.core.display.Markdown object>"
      ]
     },
     "metadata": {},
     "output_type": "display_data"
    },
    {
     "data": {
      "text/markdown": [
       "Standard deviation: 8,735.61"
      ],
      "text/plain": [
       "<IPython.core.display.Markdown object>"
      ]
     },
     "metadata": {},
     "output_type": "display_data"
    },
    {
     "data": {
      "text/markdown": [
       "**Lasso Regression Model**"
      ],
      "text/plain": [
       "<IPython.core.display.Markdown object>"
      ]
     },
     "metadata": {},
     "output_type": "display_data"
    },
    {
     "data": {
      "text/markdown": [
       "Scores: [309985.89338894 321832.07757284 328508.87239496 339038.89235165\n",
       " 324534.74017048]"
      ],
      "text/plain": [
       "<IPython.core.display.Markdown object>"
      ]
     },
     "metadata": {},
     "output_type": "display_data"
    },
    {
     "data": {
      "text/markdown": [
       "Mean: 324,780.10"
      ],
      "text/plain": [
       "<IPython.core.display.Markdown object>"
      ]
     },
     "metadata": {},
     "output_type": "display_data"
    },
    {
     "data": {
      "text/markdown": [
       "Standard deviation: 9,432.25"
      ],
      "text/plain": [
       "<IPython.core.display.Markdown object>"
      ]
     },
     "metadata": {},
     "output_type": "display_data"
    }
   ],
   "source": [
    "lin_scores = cross_val_score(lin_reg, X_train, y_train, scoring=\"neg_mean_squared_error\", cv=5)\n",
    "lin_rmse_scores = np.sqrt(-lin_scores)\n",
    "\n",
    "poly_scores = cross_val_score(poly_reg, X_train_poly, y_train, scoring=\"neg_mean_squared_error\", cv=5)\n",
    "poly_rmse_scores = np.sqrt(-poly_scores)\n",
    "\n",
    "lasso_scores = cross_val_score(lasso_reg, X_train_poly, y_train, scoring=\"neg_mean_squared_error\", cv=5)\n",
    "lasso_rmse_scores = np.sqrt(-lasso_scores)\n",
    "\n",
    "display(md(\"**Linear Regression Model**\"))\n",
    "display(md(\"Scores: {0}\".format(lin_rmse_scores)))\n",
    "display(md(\"Mean: {0:,.2f}\".format(lin_rmse_scores.mean())))\n",
    "display(md(\"Standard deviation: {0:,.2f}\".format(lin_rmse_scores.std())))\n",
    "\n",
    "display(md(\"**Polynomial Regression Model**\"))\n",
    "display(md(\"Scores: {0}\".format(poly_rmse_scores)))\n",
    "display(md(\"Mean: {0:,.2f}\".format(poly_rmse_scores.mean())))\n",
    "display(md(\"Standard deviation: {0:,.2f}\".format(poly_rmse_scores.std())))\n",
    "\n",
    "display(md(\"**Lasso Regression Model**\"))\n",
    "display(md(\"Scores: {0}\".format(lasso_rmse_scores)))\n",
    "display(md(\"Mean: {0:,.2f}\".format(lasso_rmse_scores.mean())))\n",
    "display(md(\"Standard deviation: {0:,.2f}\".format(lasso_rmse_scores.std())))"
   ]
  },
  {
   "cell_type": "markdown",
   "metadata": {},
   "source": [
    "### Learning Curves <a id=\"learning_curves\"></a>\n",
    "These are plots of the model's performance on the training set and the validation set as a function of the training set size. These plots help us to analyze if the models are *underfitting* or *overfitting* the data."
   ]
  },
  {
   "cell_type": "code",
   "execution_count": 21,
   "metadata": {},
   "outputs": [],
   "source": [
    "def plot_learning_curves(model, X, y, step=500):\n",
    "    X_train, X_val, y_train, y_val = train_test_split(X, y, test_size=0.2, random_state=10)\n",
    "    train_errors, val_errors = [], []\n",
    "    x_values = range(1, len(X_train), step)\n",
    "    for m in x_values:\n",
    "        model.fit(X_train[:m], y_train[:m])\n",
    "        y_train_predict = model.predict(X_train[:m])\n",
    "        y_val_predict = model.predict(X_val)\n",
    "        train_errors.append(mean_squared_error(y_train[:m], y_train_predict))\n",
    "        val_errors.append(mean_squared_error(y_val, y_val_predict))\n",
    "\n",
    "    plt.plot(x_values, np.sqrt(train_errors), \"r-+\", linewidth=2, label=\"train\")\n",
    "    plt.plot(x_values, np.sqrt(val_errors), \"b-\", linewidth=3, label=\"val\")\n",
    "    plt.legend(loc=\"upper right\", fontsize=14)\n",
    "    plt.xlabel(\"Training set size\", fontsize=14)\n",
    "    plt.ylabel(\"RMSE\", fontsize=14)\n",
    "    plt.yscale(\"log\")  "
   ]
  },
  {
   "cell_type": "markdown",
   "metadata": {},
   "source": [
    "The **Linear Regression Model** is underfitting the data. The curves reached a plateau, and adding more training examples don't help (*low variance*). We have to use a more complex model (*Polynomial Regression Model*) or come up with better features."
   ]
  },
  {
   "cell_type": "code",
   "execution_count": 22,
   "metadata": {},
   "outputs": [
    {
     "data": {
      "image/png": "[encoded data removed]",
      "text/plain": [
       "<Figure size 720x720 with 1 Axes>"
      ]
     },
     "metadata": {
      "needs_background": "light"
     },
     "output_type": "display_data"
    }
   ],
   "source": [
    "# # Plots the learning curves for the Linear Regression Model\n",
    "fig, axes = plt.subplots(nrows=1, ncols=1, figsize=(10,10))\n",
    "plot_learning_curves(lin_reg, X, y, step=100)\n",
    "plt.show()"
   ]
  },
  {
   "cell_type": "markdown",
   "metadata": {},
   "source": [
    "The **Polynomial Regression Model** fits better, but it has more *variance* (the gap between the curves is bigger) than the **Linear Regression Model**"
   ]
  },
  {
   "cell_type": "code",
   "execution_count": 23,
   "metadata": {},
   "outputs": [
    {
     "data": {
      "image/png": "[encoded data removed]",
      "text/plain": [
       "<Figure size 576x576 with 1 Axes>"
      ]
     },
     "metadata": {
      "needs_background": "light"
     },
     "output_type": "display_data"
    }
   ],
   "source": [
    "# Plots the learning curves for the Polynomial Regression Model\n",
    "fig, axes = plt.subplots(nrows=1, ncols=1, figsize=(8, 8))\n",
    "X_poly = np.append(X_train_poly, X_test_poly, axis=0)\n",
    "y_poly = np.append(y_train, y_test, axis=0)\n",
    "plot_learning_curves(poly_reg, X_poly, y_poly, step=1000)\n",
    "plt.show()"
   ]
  },
  {
   "cell_type": "markdown",
   "metadata": {},
   "source": [
    "**Lasso Regression** prevents overfitting, so the gap between the curves should be smaller"
   ]
  },
  {
   "cell_type": "code",
   "execution_count": 24,
   "metadata": {},
   "outputs": [
    {
     "name": "stderr",
     "output_type": "stream",
     "text": [
      "c:\\users\\matias\\miniconda3\\lib\\site-packages\\sklearn\\linear_model\\coordinate_descent.py:492: ConvergenceWarning: Objective did not converge. You might want to increase the number of iterations. Fitting data with very small alpha may cause precision problems.\n",
      "  ConvergenceWarning)\n",
      "c:\\users\\matias\\miniconda3\\lib\\site-packages\\sklearn\\linear_model\\coordinate_descent.py:492: ConvergenceWarning: Objective did not converge. You might want to increase the number of iterations. Fitting data with very small alpha may cause precision problems.\n",
      "  ConvergenceWarning)\n",
      "c:\\users\\matias\\miniconda3\\lib\\site-packages\\sklearn\\linear_model\\coordinate_descent.py:492: ConvergenceWarning: Objective did not converge. You might want to increase the number of iterations. Fitting data with very small alpha may cause precision problems.\n",
      "  ConvergenceWarning)\n",
      "c:\\users\\matias\\miniconda3\\lib\\site-packages\\sklearn\\linear_model\\coordinate_descent.py:492: ConvergenceWarning: Objective did not converge. You might want to increase the number of iterations. Fitting data with very small alpha may cause precision problems.\n",
      "  ConvergenceWarning)\n",
      "c:\\users\\matias\\miniconda3\\lib\\site-packages\\sklearn\\linear_model\\coordinate_descent.py:492: ConvergenceWarning: Objective did not converge. You might want to increase the number of iterations. Fitting data with very small alpha may cause precision problems.\n",
      "  ConvergenceWarning)\n",
      "c:\\users\\matias\\miniconda3\\lib\\site-packages\\sklearn\\linear_model\\coordinate_descent.py:492: ConvergenceWarning: Objective did not converge. You might want to increase the number of iterations. Fitting data with very small alpha may cause precision problems.\n",
      "  ConvergenceWarning)\n",
      "c:\\users\\matias\\miniconda3\\lib\\site-packages\\sklearn\\linear_model\\coordinate_descent.py:492: ConvergenceWarning: Objective did not converge. You might want to increase the number of iterations. Fitting data with very small alpha may cause precision problems.\n",
      "  ConvergenceWarning)\n",
      "c:\\users\\matias\\miniconda3\\lib\\site-packages\\sklearn\\linear_model\\coordinate_descent.py:492: ConvergenceWarning: Objective did not converge. You might want to increase the number of iterations. Fitting data with very small alpha may cause precision problems.\n",
      "  ConvergenceWarning)\n",
      "c:\\users\\matias\\miniconda3\\lib\\site-packages\\sklearn\\linear_model\\coordinate_descent.py:492: ConvergenceWarning: Objective did not converge. You might want to increase the number of iterations. Fitting data with very small alpha may cause precision problems.\n",
      "  ConvergenceWarning)\n",
      "c:\\users\\matias\\miniconda3\\lib\\site-packages\\sklearn\\linear_model\\coordinate_descent.py:492: ConvergenceWarning: Objective did not converge. You might want to increase the number of iterations. Fitting data with very small alpha may cause precision problems.\n",
      "  ConvergenceWarning)\n"
     ]
    },
    {
     "data": {
      "image/png": "[encoded data removed]",
      "text/plain": [
       "<Figure size 576x576 with 1 Axes>"
      ]
     },
     "metadata": {
      "needs_background": "light"
     },
     "output_type": "display_data"
    }
   ],
   "source": [
    "# Plots the learning curves for the Lasso Regression Model\n",
    "fig, axes = plt.subplots(nrows=1, ncols=1, figsize=(8, 8))\n",
    "X_poly = np.append(X_train_poly, X_test_poly, axis=0)\n",
    "y_poly = np.append(y_train, y_test, axis=0)\n",
    "plot_learning_curves(lasso_reg, X_poly, y_poly, step=1000)\n",
    "plt.show()"
   ]
  },
  {
   "cell_type": "markdown",
   "metadata": {},
   "source": [
    "## Results <a id=\"export\"></a>\n",
    "### Append the results<a id=\"append_results\"></a>"
   ]
  },
  {
   "cell_type": "code",
   "execution_count": 25,
   "metadata": {},
   "outputs": [
    {
     "data": {
      "text/html": [
       "<div>\n",
       "<style scoped>\n",
       "    .dataframe tbody tr th:only-of-type {\n",
       "        vertical-align: middle;\n",
       "    }\n",
       "\n",
       "    .dataframe tbody tr th {\n",
       "        vertical-align: top;\n",
       "    }\n",
       "\n",
       "    .dataframe thead th {\n",
       "        text-align: right;\n",
       "    }\n",
       "</style>\n",
       "<table border=\"1\" class=\"dataframe\">\n",
       "  <thead>\n",
       "    <tr style=\"text-align: right;\">\n",
       "      <th></th>\n",
       "      <th>index</th>\n",
       "      <th>Overall</th>\n",
       "      <th>Potential</th>\n",
       "      <th>Wage</th>\n",
       "      <th>Special</th>\n",
       "      <th>Ball control</th>\n",
       "      <th>Composure</th>\n",
       "      <th>Reactions</th>\n",
       "      <th>Short passing</th>\n",
       "      <th>CAM</th>\n",
       "      <th>CM</th>\n",
       "      <th>LAM</th>\n",
       "      <th>LCM</th>\n",
       "      <th>LM</th>\n",
       "      <th>LS</th>\n",
       "      <th>RAM</th>\n",
       "      <th>RCM</th>\n",
       "      <th>RM</th>\n",
       "      <th>RS</th>\n",
       "      <th>ST</th>\n",
       "      <th>Name</th>\n",
       "      <th>Value</th>\n",
       "      <th>Prediction Linear Regression</th>\n",
       "      <th>Prediction Polynomial Regression</th>\n",
       "      <th>Prediction Lasso Regression</th>\n",
       "      <th>Prediction Lasso Regression (TF)</th>\n",
       "    </tr>\n",
       "  </thead>\n",
       "  <tbody>\n",
       "    <tr>\n",
       "      <th>0</th>\n",
       "      <td>13260.0</td>\n",
       "      <td>57.0</td>\n",
       "      <td>69.0</td>\n",
       "      <td>2000.0</td>\n",
       "      <td>1578.0</td>\n",
       "      <td>61.0</td>\n",
       "      <td>44.0</td>\n",
       "      <td>55.0</td>\n",
       "      <td>68.0</td>\n",
       "      <td>56.0</td>\n",
       "      <td>56.0</td>\n",
       "      <td>56.0</td>\n",
       "      <td>56.0</td>\n",
       "      <td>54.0</td>\n",
       "      <td>50.0</td>\n",
       "      <td>56.0</td>\n",
       "      <td>56.0</td>\n",
       "      <td>54.0</td>\n",
       "      <td>50.0</td>\n",
       "      <td>50.0</td>\n",
       "      <td>R. Öktem</td>\n",
       "      <td>180000.0</td>\n",
       "      <td>-1.969699e+04</td>\n",
       "      <td>271991.295713</td>\n",
       "      <td>343486.273921</td>\n",
       "      <td>9.535288e+04</td>\n",
       "    </tr>\n",
       "    <tr>\n",
       "      <th>1</th>\n",
       "      <td>4347.0</td>\n",
       "      <td>68.0</td>\n",
       "      <td>68.0</td>\n",
       "      <td>15000.0</td>\n",
       "      <td>1715.0</td>\n",
       "      <td>72.0</td>\n",
       "      <td>65.0</td>\n",
       "      <td>65.0</td>\n",
       "      <td>58.0</td>\n",
       "      <td>62.0</td>\n",
       "      <td>55.0</td>\n",
       "      <td>62.0</td>\n",
       "      <td>55.0</td>\n",
       "      <td>63.0</td>\n",
       "      <td>67.0</td>\n",
       "      <td>62.0</td>\n",
       "      <td>55.0</td>\n",
       "      <td>63.0</td>\n",
       "      <td>67.0</td>\n",
       "      <td>67.0</td>\n",
       "      <td>Cris Laranjeiros</td>\n",
       "      <td>575000.0</td>\n",
       "      <td>1.513157e+06</td>\n",
       "      <td>952245.242732</td>\n",
       "      <td>918703.708163</td>\n",
       "      <td>1.736628e+06</td>\n",
       "    </tr>\n",
       "    <tr>\n",
       "      <th>2</th>\n",
       "      <td>6745.0</td>\n",
       "      <td>66.0</td>\n",
       "      <td>73.0</td>\n",
       "      <td>2000.0</td>\n",
       "      <td>1728.0</td>\n",
       "      <td>71.0</td>\n",
       "      <td>63.0</td>\n",
       "      <td>69.0</td>\n",
       "      <td>68.0</td>\n",
       "      <td>63.0</td>\n",
       "      <td>65.0</td>\n",
       "      <td>63.0</td>\n",
       "      <td>65.0</td>\n",
       "      <td>64.0</td>\n",
       "      <td>59.0</td>\n",
       "      <td>63.0</td>\n",
       "      <td>65.0</td>\n",
       "      <td>64.0</td>\n",
       "      <td>59.0</td>\n",
       "      <td>59.0</td>\n",
       "      <td>Pité</td>\n",
       "      <td>750000.0</td>\n",
       "      <td>1.004555e+06</td>\n",
       "      <td>895447.922096</td>\n",
       "      <td>838018.393555</td>\n",
       "      <td>9.428139e+05</td>\n",
       "    </tr>\n",
       "    <tr>\n",
       "      <th>3</th>\n",
       "      <td>5601.0</td>\n",
       "      <td>67.0</td>\n",
       "      <td>67.0</td>\n",
       "      <td>8000.0</td>\n",
       "      <td>1633.0</td>\n",
       "      <td>62.0</td>\n",
       "      <td>65.0</td>\n",
       "      <td>64.0</td>\n",
       "      <td>58.0</td>\n",
       "      <td>59.0</td>\n",
       "      <td>53.0</td>\n",
       "      <td>59.0</td>\n",
       "      <td>53.0</td>\n",
       "      <td>57.0</td>\n",
       "      <td>66.0</td>\n",
       "      <td>59.0</td>\n",
       "      <td>53.0</td>\n",
       "      <td>57.0</td>\n",
       "      <td>66.0</td>\n",
       "      <td>66.0</td>\n",
       "      <td>M. Grüttner</td>\n",
       "      <td>675000.0</td>\n",
       "      <td>1.090061e+06</td>\n",
       "      <td>648653.406745</td>\n",
       "      <td>609441.224388</td>\n",
       "      <td>1.232308e+06</td>\n",
       "    </tr>\n",
       "    <tr>\n",
       "      <th>4</th>\n",
       "      <td>12192.0</td>\n",
       "      <td>59.0</td>\n",
       "      <td>70.0</td>\n",
       "      <td>2000.0</td>\n",
       "      <td>1515.0</td>\n",
       "      <td>60.0</td>\n",
       "      <td>50.0</td>\n",
       "      <td>53.0</td>\n",
       "      <td>63.0</td>\n",
       "      <td>58.0</td>\n",
       "      <td>54.0</td>\n",
       "      <td>58.0</td>\n",
       "      <td>54.0</td>\n",
       "      <td>58.0</td>\n",
       "      <td>55.0</td>\n",
       "      <td>58.0</td>\n",
       "      <td>54.0</td>\n",
       "      <td>58.0</td>\n",
       "      <td>55.0</td>\n",
       "      <td>55.0</td>\n",
       "      <td>I. Colman</td>\n",
       "      <td>270000.0</td>\n",
       "      <td>2.234241e+05</td>\n",
       "      <td>278528.878132</td>\n",
       "      <td>313275.037690</td>\n",
       "      <td>1.599928e+05</td>\n",
       "    </tr>\n",
       "  </tbody>\n",
       "</table>\n",
       "</div>"
      ],
      "text/plain": [
       "     index  Overall  Potential     Wage  Special  Ball control  Composure  \\\n",
       "0  13260.0     57.0       69.0   2000.0   1578.0          61.0       44.0   \n",
       "1   4347.0     68.0       68.0  15000.0   1715.0          72.0       65.0   \n",
       "2   6745.0     66.0       73.0   2000.0   1728.0          71.0       63.0   \n",
       "3   5601.0     67.0       67.0   8000.0   1633.0          62.0       65.0   \n",
       "4  12192.0     59.0       70.0   2000.0   1515.0          60.0       50.0   \n",
       "\n",
       "   Reactions  Short passing   CAM    CM   LAM   LCM    LM    LS   RAM   RCM  \\\n",
       "0       55.0           68.0  56.0  56.0  56.0  56.0  54.0  50.0  56.0  56.0   \n",
       "1       65.0           58.0  62.0  55.0  62.0  55.0  63.0  67.0  62.0  55.0   \n",
       "2       69.0           68.0  63.0  65.0  63.0  65.0  64.0  59.0  63.0  65.0   \n",
       "3       64.0           58.0  59.0  53.0  59.0  53.0  57.0  66.0  59.0  53.0   \n",
       "4       53.0           63.0  58.0  54.0  58.0  54.0  58.0  55.0  58.0  54.0   \n",
       "\n",
       "     RM    RS    ST              Name     Value  Prediction Linear Regression  \\\n",
       "0  54.0  50.0  50.0          R. Öktem  180000.0                 -1.969699e+04   \n",
       "1  63.0  67.0  67.0  Cris Laranjeiros  575000.0                  1.513157e+06   \n",
       "2  64.0  59.0  59.0              Pité  750000.0                  1.004555e+06   \n",
       "3  57.0  66.0  66.0       M. Grüttner  675000.0                  1.090061e+06   \n",
       "4  58.0  55.0  55.0         I. Colman  270000.0                  2.234241e+05   \n",
       "\n",
       "   Prediction Polynomial Regression  Prediction Lasso Regression  \\\n",
       "0                     271991.295713                343486.273921   \n",
       "1                     952245.242732                918703.708163   \n",
       "2                     895447.922096                838018.393555   \n",
       "3                     648653.406745                609441.224388   \n",
       "4                     278528.878132                313275.037690   \n",
       "\n",
       "   Prediction Lasso Regression (TF)  \n",
       "0                      9.535288e+04  \n",
       "1                      1.736628e+06  \n",
       "2                      9.428139e+05  \n",
       "3                      1.232308e+06  \n",
       "4                      1.599928e+05  "
      ]
     },
     "metadata": {},
     "output_type": "display_data"
    }
   ],
   "source": [
    "predictions_series = pd.Series(data=predictions_lin_reg.flatten().tolist(), name=\"Prediction Linear Regression\")\n",
    "predictions_poly_series = pd.Series(data=predictions_poly.flatten().tolist(), name=\"Prediction Polynomial Regression\")\n",
    "predictions_lasso_series = pd.Series(data=predictions_lasso.flatten().tolist(), name=\"Prediction Lasso Regression\")\n",
    "predictions_lin_reg_tf_series = pd.Series(data=predictions_lin_reg_tf.flatten().tolist(), \n",
    "                                          name=\"Prediction Lasso Regression (TF)\")\n",
    "\n",
    "X_test_df = pd.DataFrame(data=X_test, columns=features)\n",
    "X_test_df[\"Name\"] = names[index_test].values\n",
    "\n",
    "y_test_series = pd.Series(data=y_test.flatten().tolist(), name=\"Value\")\n",
    "results_df = pd.concat([X_test_df, y_test_series, predictions_series, predictions_poly_series, \n",
    "                        predictions_lasso_series, predictions_lin_reg_tf_series], axis=1, ignore_index=False)\n",
    "\n",
    "display(results_df.head())"
   ]
  },
  {
   "cell_type": "markdown",
   "metadata": {},
   "source": [
    "### Overrated and undervalued players"
   ]
  },
  {
   "cell_type": "code",
   "execution_count": 26,
   "metadata": {},
   "outputs": [
    {
     "data": {
      "text/markdown": [
       "Most **Overrated** players"
      ],
      "text/plain": [
       "<IPython.core.display.Markdown object>"
      ]
     },
     "metadata": {},
     "output_type": "display_data"
    },
    {
     "data": {
      "text/html": [
       "<div>\n",
       "<style scoped>\n",
       "    .dataframe tbody tr th:only-of-type {\n",
       "        vertical-align: middle;\n",
       "    }\n",
       "\n",
       "    .dataframe tbody tr th {\n",
       "        vertical-align: top;\n",
       "    }\n",
       "\n",
       "    .dataframe thead th {\n",
       "        text-align: right;\n",
       "    }\n",
       "</style>\n",
       "<table border=\"1\" class=\"dataframe\">\n",
       "  <thead>\n",
       "    <tr style=\"text-align: right;\">\n",
       "      <th></th>\n",
       "      <th>index</th>\n",
       "      <th>Overall</th>\n",
       "      <th>Potential</th>\n",
       "      <th>Wage</th>\n",
       "      <th>Special</th>\n",
       "      <th>Ball control</th>\n",
       "      <th>Composure</th>\n",
       "      <th>Reactions</th>\n",
       "      <th>Short passing</th>\n",
       "      <th>CAM</th>\n",
       "      <th>CM</th>\n",
       "      <th>LAM</th>\n",
       "      <th>LCM</th>\n",
       "      <th>LM</th>\n",
       "      <th>LS</th>\n",
       "      <th>RAM</th>\n",
       "      <th>RCM</th>\n",
       "      <th>RM</th>\n",
       "      <th>RS</th>\n",
       "      <th>ST</th>\n",
       "      <th>Name</th>\n",
       "      <th>Value</th>\n",
       "      <th>Prediction Linear Regression</th>\n",
       "      <th>Prediction Polynomial Regression</th>\n",
       "      <th>Prediction Lasso Regression</th>\n",
       "      <th>Prediction Lasso Regression (TF)</th>\n",
       "      <th>difference</th>\n",
       "    </tr>\n",
       "  </thead>\n",
       "  <tbody>\n",
       "    <tr>\n",
       "      <th>340</th>\n",
       "      <td>211.0</td>\n",
       "      <td>74.0</td>\n",
       "      <td>74.0</td>\n",
       "      <td>13000.0</td>\n",
       "      <td>1663.0</td>\n",
       "      <td>64.0</td>\n",
       "      <td>72.0</td>\n",
       "      <td>67.0</td>\n",
       "      <td>67.0</td>\n",
       "      <td>54.0</td>\n",
       "      <td>59.0</td>\n",
       "      <td>54.0</td>\n",
       "      <td>59.0</td>\n",
       "      <td>55.0</td>\n",
       "      <td>52.0</td>\n",
       "      <td>54.0</td>\n",
       "      <td>59.0</td>\n",
       "      <td>55.0</td>\n",
       "      <td>52.0</td>\n",
       "      <td>52.0</td>\n",
       "      <td>Ewerton</td>\n",
       "      <td>4600000.0</td>\n",
       "      <td>2.088396e+06</td>\n",
       "      <td>3.156702e+06</td>\n",
       "      <td>3.023911e+06</td>\n",
       "      <td>2.051366e+06</td>\n",
       "      <td>-1.576089e+06</td>\n",
       "    </tr>\n",
       "    <tr>\n",
       "      <th>529</th>\n",
       "      <td>541.0</td>\n",
       "      <td>73.0</td>\n",
       "      <td>74.0</td>\n",
       "      <td>12000.0</td>\n",
       "      <td>1884.0</td>\n",
       "      <td>66.0</td>\n",
       "      <td>62.0</td>\n",
       "      <td>75.0</td>\n",
       "      <td>69.0</td>\n",
       "      <td>70.0</td>\n",
       "      <td>65.0</td>\n",
       "      <td>70.0</td>\n",
       "      <td>65.0</td>\n",
       "      <td>70.0</td>\n",
       "      <td>72.0</td>\n",
       "      <td>70.0</td>\n",
       "      <td>65.0</td>\n",
       "      <td>70.0</td>\n",
       "      <td>72.0</td>\n",
       "      <td>72.0</td>\n",
       "      <td>Quique</td>\n",
       "      <td>4700000.0</td>\n",
       "      <td>2.253126e+06</td>\n",
       "      <td>3.458369e+06</td>\n",
       "      <td>3.327441e+06</td>\n",
       "      <td>2.176612e+06</td>\n",
       "      <td>-1.372559e+06</td>\n",
       "    </tr>\n",
       "    <tr>\n",
       "      <th>1448</th>\n",
       "      <td>479.0</td>\n",
       "      <td>73.0</td>\n",
       "      <td>74.0</td>\n",
       "      <td>9000.0</td>\n",
       "      <td>1826.0</td>\n",
       "      <td>70.0</td>\n",
       "      <td>70.0</td>\n",
       "      <td>70.0</td>\n",
       "      <td>67.0</td>\n",
       "      <td>71.0</td>\n",
       "      <td>66.0</td>\n",
       "      <td>71.0</td>\n",
       "      <td>66.0</td>\n",
       "      <td>72.0</td>\n",
       "      <td>67.0</td>\n",
       "      <td>71.0</td>\n",
       "      <td>66.0</td>\n",
       "      <td>72.0</td>\n",
       "      <td>67.0</td>\n",
       "      <td>67.0</td>\n",
       "      <td>M. Barrios</td>\n",
       "      <td>4700000.0</td>\n",
       "      <td>2.215914e+06</td>\n",
       "      <td>3.446497e+06</td>\n",
       "      <td>3.340126e+06</td>\n",
       "      <td>2.007175e+06</td>\n",
       "      <td>-1.359874e+06</td>\n",
       "    </tr>\n",
       "    <tr>\n",
       "      <th>741</th>\n",
       "      <td>169.0</td>\n",
       "      <td>74.0</td>\n",
       "      <td>74.0</td>\n",
       "      <td>5000.0</td>\n",
       "      <td>2004.0</td>\n",
       "      <td>70.0</td>\n",
       "      <td>69.0</td>\n",
       "      <td>82.0</td>\n",
       "      <td>76.0</td>\n",
       "      <td>71.0</td>\n",
       "      <td>72.0</td>\n",
       "      <td>71.0</td>\n",
       "      <td>72.0</td>\n",
       "      <td>68.0</td>\n",
       "      <td>72.0</td>\n",
       "      <td>71.0</td>\n",
       "      <td>72.0</td>\n",
       "      <td>68.0</td>\n",
       "      <td>72.0</td>\n",
       "      <td>72.0</td>\n",
       "      <td>N. Fuenzas</td>\n",
       "      <td>4400000.0</td>\n",
       "      <td>1.980807e+06</td>\n",
       "      <td>3.274694e+06</td>\n",
       "      <td>3.042270e+06</td>\n",
       "      <td>2.028181e+06</td>\n",
       "      <td>-1.357730e+06</td>\n",
       "    </tr>\n",
       "    <tr>\n",
       "      <th>1058</th>\n",
       "      <td>160.0</td>\n",
       "      <td>74.0</td>\n",
       "      <td>74.0</td>\n",
       "      <td>5000.0</td>\n",
       "      <td>1816.0</td>\n",
       "      <td>72.0</td>\n",
       "      <td>64.0</td>\n",
       "      <td>72.0</td>\n",
       "      <td>68.0</td>\n",
       "      <td>58.0</td>\n",
       "      <td>63.0</td>\n",
       "      <td>58.0</td>\n",
       "      <td>63.0</td>\n",
       "      <td>61.0</td>\n",
       "      <td>61.0</td>\n",
       "      <td>58.0</td>\n",
       "      <td>63.0</td>\n",
       "      <td>61.0</td>\n",
       "      <td>61.0</td>\n",
       "      <td>61.0</td>\n",
       "      <td>E. Evaldes</td>\n",
       "      <td>4400000.0</td>\n",
       "      <td>1.877988e+06</td>\n",
       "      <td>3.323736e+06</td>\n",
       "      <td>3.077849e+06</td>\n",
       "      <td>1.857606e+06</td>\n",
       "      <td>-1.322151e+06</td>\n",
       "    </tr>\n",
       "  </tbody>\n",
       "</table>\n",
       "</div>"
      ],
      "text/plain": [
       "      index  Overall  Potential     Wage  Special  Ball control  Composure  \\\n",
       "340   211.0     74.0       74.0  13000.0   1663.0          64.0       72.0   \n",
       "529   541.0     73.0       74.0  12000.0   1884.0          66.0       62.0   \n",
       "1448  479.0     73.0       74.0   9000.0   1826.0          70.0       70.0   \n",
       "741   169.0     74.0       74.0   5000.0   2004.0          70.0       69.0   \n",
       "1058  160.0     74.0       74.0   5000.0   1816.0          72.0       64.0   \n",
       "\n",
       "      Reactions  Short passing   CAM    CM   LAM   LCM    LM    LS   RAM  \\\n",
       "340        67.0           67.0  54.0  59.0  54.0  59.0  55.0  52.0  54.0   \n",
       "529        75.0           69.0  70.0  65.0  70.0  65.0  70.0  72.0  70.0   \n",
       "1448       70.0           67.0  71.0  66.0  71.0  66.0  72.0  67.0  71.0   \n",
       "741        82.0           76.0  71.0  72.0  71.0  72.0  68.0  72.0  71.0   \n",
       "1058       72.0           68.0  58.0  63.0  58.0  63.0  61.0  61.0  58.0   \n",
       "\n",
       "       RCM    RM    RS    ST        Name      Value  \\\n",
       "340   59.0  55.0  52.0  52.0     Ewerton  4600000.0   \n",
       "529   65.0  70.0  72.0  72.0      Quique  4700000.0   \n",
       "1448  66.0  72.0  67.0  67.0  M. Barrios  4700000.0   \n",
       "741   72.0  68.0  72.0  72.0  N. Fuenzas  4400000.0   \n",
       "1058  63.0  61.0  61.0  61.0  E. Evaldes  4400000.0   \n",
       "\n",
       "      Prediction Linear Regression  Prediction Polynomial Regression  \\\n",
       "340                   2.088396e+06                      3.156702e+06   \n",
       "529                   2.253126e+06                      3.458369e+06   \n",
       "1448                  2.215914e+06                      3.446497e+06   \n",
       "741                   1.980807e+06                      3.274694e+06   \n",
       "1058                  1.877988e+06                      3.323736e+06   \n",
       "\n",
       "      Prediction Lasso Regression  Prediction Lasso Regression (TF)  \\\n",
       "340                  3.023911e+06                      2.051366e+06   \n",
       "529                  3.327441e+06                      2.176612e+06   \n",
       "1448                 3.340126e+06                      2.007175e+06   \n",
       "741                  3.042270e+06                      2.028181e+06   \n",
       "1058                 3.077849e+06                      1.857606e+06   \n",
       "\n",
       "        difference  \n",
       "340  -1.576089e+06  \n",
       "529  -1.372559e+06  \n",
       "1448 -1.359874e+06  \n",
       "741  -1.357730e+06  \n",
       "1058 -1.322151e+06  "
      ]
     },
     "metadata": {},
     "output_type": "display_data"
    },
    {
     "data": {
      "text/markdown": [
       "Most **Undervalued** players"
      ],
      "text/plain": [
       "<IPython.core.display.Markdown object>"
      ]
     },
     "metadata": {},
     "output_type": "display_data"
    },
    {
     "data": {
      "text/html": [
       "<div>\n",
       "<style scoped>\n",
       "    .dataframe tbody tr th:only-of-type {\n",
       "        vertical-align: middle;\n",
       "    }\n",
       "\n",
       "    .dataframe tbody tr th {\n",
       "        vertical-align: top;\n",
       "    }\n",
       "\n",
       "    .dataframe thead th {\n",
       "        text-align: right;\n",
       "    }\n",
       "</style>\n",
       "<table border=\"1\" class=\"dataframe\">\n",
       "  <thead>\n",
       "    <tr style=\"text-align: right;\">\n",
       "      <th></th>\n",
       "      <th>index</th>\n",
       "      <th>Overall</th>\n",
       "      <th>Potential</th>\n",
       "      <th>Wage</th>\n",
       "      <th>Special</th>\n",
       "      <th>Ball control</th>\n",
       "      <th>Composure</th>\n",
       "      <th>Reactions</th>\n",
       "      <th>Short passing</th>\n",
       "      <th>CAM</th>\n",
       "      <th>CM</th>\n",
       "      <th>LAM</th>\n",
       "      <th>LCM</th>\n",
       "      <th>LM</th>\n",
       "      <th>LS</th>\n",
       "      <th>RAM</th>\n",
       "      <th>RCM</th>\n",
       "      <th>RM</th>\n",
       "      <th>RS</th>\n",
       "      <th>ST</th>\n",
       "      <th>Name</th>\n",
       "      <th>Value</th>\n",
       "      <th>Prediction Linear Regression</th>\n",
       "      <th>Prediction Polynomial Regression</th>\n",
       "      <th>Prediction Lasso Regression</th>\n",
       "      <th>Prediction Lasso Regression (TF)</th>\n",
       "      <th>difference</th>\n",
       "    </tr>\n",
       "  </thead>\n",
       "  <tbody>\n",
       "    <tr>\n",
       "      <th>22</th>\n",
       "      <td>18.0</td>\n",
       "      <td>78.0</td>\n",
       "      <td>78.0</td>\n",
       "      <td>18000.0</td>\n",
       "      <td>1834.0</td>\n",
       "      <td>73.0</td>\n",
       "      <td>75.0</td>\n",
       "      <td>73.0</td>\n",
       "      <td>75.0</td>\n",
       "      <td>64.0</td>\n",
       "      <td>69.0</td>\n",
       "      <td>64.0</td>\n",
       "      <td>69.0</td>\n",
       "      <td>61.0</td>\n",
       "      <td>59.0</td>\n",
       "      <td>64.0</td>\n",
       "      <td>69.0</td>\n",
       "      <td>61.0</td>\n",
       "      <td>59.0</td>\n",
       "      <td>59.0</td>\n",
       "      <td>Hilton</td>\n",
       "      <td>700000.0</td>\n",
       "      <td>2.211197e+06</td>\n",
       "      <td>4.320623e+06</td>\n",
       "      <td>4.501300e+06</td>\n",
       "      <td>2.440008e+06</td>\n",
       "      <td>3.801300e+06</td>\n",
       "    </tr>\n",
       "    <tr>\n",
       "      <th>2504</th>\n",
       "      <td>595.0</td>\n",
       "      <td>73.0</td>\n",
       "      <td>73.0</td>\n",
       "      <td>26000.0</td>\n",
       "      <td>1972.0</td>\n",
       "      <td>70.0</td>\n",
       "      <td>78.0</td>\n",
       "      <td>70.0</td>\n",
       "      <td>72.0</td>\n",
       "      <td>68.0</td>\n",
       "      <td>68.0</td>\n",
       "      <td>68.0</td>\n",
       "      <td>68.0</td>\n",
       "      <td>68.0</td>\n",
       "      <td>67.0</td>\n",
       "      <td>68.0</td>\n",
       "      <td>68.0</td>\n",
       "      <td>68.0</td>\n",
       "      <td>67.0</td>\n",
       "      <td>67.0</td>\n",
       "      <td>O. Kuzmin</td>\n",
       "      <td>450000.0</td>\n",
       "      <td>2.426731e+06</td>\n",
       "      <td>2.850082e+06</td>\n",
       "      <td>2.859941e+06</td>\n",
       "      <td>2.833683e+06</td>\n",
       "      <td>2.409941e+06</td>\n",
       "    </tr>\n",
       "    <tr>\n",
       "      <th>1680</th>\n",
       "      <td>278.0</td>\n",
       "      <td>74.0</td>\n",
       "      <td>74.0</td>\n",
       "      <td>8000.0</td>\n",
       "      <td>1614.0</td>\n",
       "      <td>61.0</td>\n",
       "      <td>67.0</td>\n",
       "      <td>67.0</td>\n",
       "      <td>59.0</td>\n",
       "      <td>49.0</td>\n",
       "      <td>54.0</td>\n",
       "      <td>49.0</td>\n",
       "      <td>54.0</td>\n",
       "      <td>49.0</td>\n",
       "      <td>51.0</td>\n",
       "      <td>49.0</td>\n",
       "      <td>54.0</td>\n",
       "      <td>49.0</td>\n",
       "      <td>51.0</td>\n",
       "      <td>51.0</td>\n",
       "      <td>Ricardo</td>\n",
       "      <td>750000.0</td>\n",
       "      <td>1.908063e+06</td>\n",
       "      <td>3.093593e+06</td>\n",
       "      <td>2.910522e+06</td>\n",
       "      <td>1.787515e+06</td>\n",
       "      <td>2.160522e+06</td>\n",
       "    </tr>\n",
       "    <tr>\n",
       "      <th>2211</th>\n",
       "      <td>35.0</td>\n",
       "      <td>77.0</td>\n",
       "      <td>77.0</td>\n",
       "      <td>16000.0</td>\n",
       "      <td>1784.0</td>\n",
       "      <td>69.0</td>\n",
       "      <td>69.0</td>\n",
       "      <td>73.0</td>\n",
       "      <td>77.0</td>\n",
       "      <td>57.0</td>\n",
       "      <td>62.0</td>\n",
       "      <td>57.0</td>\n",
       "      <td>62.0</td>\n",
       "      <td>61.0</td>\n",
       "      <td>58.0</td>\n",
       "      <td>57.0</td>\n",
       "      <td>62.0</td>\n",
       "      <td>61.0</td>\n",
       "      <td>58.0</td>\n",
       "      <td>58.0</td>\n",
       "      <td>David García</td>\n",
       "      <td>2100000.0</td>\n",
       "      <td>2.116003e+06</td>\n",
       "      <td>4.683055e+06</td>\n",
       "      <td>4.208220e+06</td>\n",
       "      <td>2.307048e+06</td>\n",
       "      <td>2.108220e+06</td>\n",
       "    </tr>\n",
       "    <tr>\n",
       "      <th>366</th>\n",
       "      <td>192.0</td>\n",
       "      <td>74.0</td>\n",
       "      <td>74.0</td>\n",
       "      <td>3000.0</td>\n",
       "      <td>1902.0</td>\n",
       "      <td>69.0</td>\n",
       "      <td>84.0</td>\n",
       "      <td>75.0</td>\n",
       "      <td>72.0</td>\n",
       "      <td>67.0</td>\n",
       "      <td>70.0</td>\n",
       "      <td>67.0</td>\n",
       "      <td>70.0</td>\n",
       "      <td>64.0</td>\n",
       "      <td>64.0</td>\n",
       "      <td>67.0</td>\n",
       "      <td>70.0</td>\n",
       "      <td>64.0</td>\n",
       "      <td>64.0</td>\n",
       "      <td>64.0</td>\n",
       "      <td>A. Pérez</td>\n",
       "      <td>750000.0</td>\n",
       "      <td>1.884249e+06</td>\n",
       "      <td>2.779662e+06</td>\n",
       "      <td>2.623628e+06</td>\n",
       "      <td>1.849943e+06</td>\n",
       "      <td>1.873628e+06</td>\n",
       "    </tr>\n",
       "  </tbody>\n",
       "</table>\n",
       "</div>"
      ],
      "text/plain": [
       "      index  Overall  Potential     Wage  Special  Ball control  Composure  \\\n",
       "22     18.0     78.0       78.0  18000.0   1834.0          73.0       75.0   \n",
       "2504  595.0     73.0       73.0  26000.0   1972.0          70.0       78.0   \n",
       "1680  278.0     74.0       74.0   8000.0   1614.0          61.0       67.0   \n",
       "2211   35.0     77.0       77.0  16000.0   1784.0          69.0       69.0   \n",
       "366   192.0     74.0       74.0   3000.0   1902.0          69.0       84.0   \n",
       "\n",
       "      Reactions  Short passing   CAM    CM   LAM   LCM    LM    LS   RAM  \\\n",
       "22         73.0           75.0  64.0  69.0  64.0  69.0  61.0  59.0  64.0   \n",
       "2504       70.0           72.0  68.0  68.0  68.0  68.0  68.0  67.0  68.0   \n",
       "1680       67.0           59.0  49.0  54.0  49.0  54.0  49.0  51.0  49.0   \n",
       "2211       73.0           77.0  57.0  62.0  57.0  62.0  61.0  58.0  57.0   \n",
       "366        75.0           72.0  67.0  70.0  67.0  70.0  64.0  64.0  67.0   \n",
       "\n",
       "       RCM    RM    RS    ST          Name      Value  \\\n",
       "22    69.0  61.0  59.0  59.0        Hilton   700000.0   \n",
       "2504  68.0  68.0  67.0  67.0     O. Kuzmin   450000.0   \n",
       "1680  54.0  49.0  51.0  51.0       Ricardo   750000.0   \n",
       "2211  62.0  61.0  58.0  58.0  David García  2100000.0   \n",
       "366   70.0  64.0  64.0  64.0      A. Pérez   750000.0   \n",
       "\n",
       "      Prediction Linear Regression  Prediction Polynomial Regression  \\\n",
       "22                    2.211197e+06                      4.320623e+06   \n",
       "2504                  2.426731e+06                      2.850082e+06   \n",
       "1680                  1.908063e+06                      3.093593e+06   \n",
       "2211                  2.116003e+06                      4.683055e+06   \n",
       "366                   1.884249e+06                      2.779662e+06   \n",
       "\n",
       "      Prediction Lasso Regression  Prediction Lasso Regression (TF)  \\\n",
       "22                   4.501300e+06                      2.440008e+06   \n",
       "2504                 2.859941e+06                      2.833683e+06   \n",
       "1680                 2.910522e+06                      1.787515e+06   \n",
       "2211                 4.208220e+06                      2.307048e+06   \n",
       "366                  2.623628e+06                      1.849943e+06   \n",
       "\n",
       "        difference  \n",
       "22    3.801300e+06  \n",
       "2504  2.409941e+06  \n",
       "1680  2.160522e+06  \n",
       "2211  2.108220e+06  \n",
       "366   1.873628e+06  "
      ]
     },
     "metadata": {},
     "output_type": "display_data"
    }
   ],
   "source": [
    "results_df[\"difference\"] = results_df[\"Prediction Lasso Regression\"] - results_df[\"Value\"]\n",
    "\n",
    "display(md(\"Most **Overrated** players\"))\n",
    "display(results_df.sort_values(by=\"difference\", ascending=True).head())\n",
    "\n",
    "display(md(\"Most **Undervalued** players\"))\n",
    "display(results_df.sort_values(by=\"difference\", ascending=False).head())"
   ]
  },
  {
   "cell_type": "markdown",
   "metadata": {},
   "source": [
    "### Export the results"
   ]
  },
  {
   "cell_type": "code",
   "execution_count": 27,
   "metadata": {},
   "outputs": [],
   "source": [
    "results_df.to_csv(\"data/output/predictions.csv\", sep=\";\", index=False, float_format=\"%.0f\")"
   ]
  }
 ],
 "metadata": {
  "kernelspec": {
   "display_name": "Python 3",
   "language": "python",
   "name": "python3"
  },
  "language_info": {
   "codemirror_mode": {
    "name": "ipython",
    "version": 3
   },
   "file_extension": ".py",
   "mimetype": "text/x-python",
   "name": "python",
   "nbconvert_exporter": "python",
   "pygments_lexer": "ipython3",
   "version": "3.6.3"
  }
 },
 "nbformat": 4,
 "nbformat_minor": 2
}
