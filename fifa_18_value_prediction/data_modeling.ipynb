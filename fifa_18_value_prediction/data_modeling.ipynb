{
 "cells": [
  {
   "cell_type": "markdown",
   "metadata": {},
   "source": [
    "# Fifa 18 Value Prediction\n",
    "## Data Modeling\n",
    "\n",
    "### Table of Contents\n",
    "\n",
    "1. [Data Preparation](#preparation)\n",
    "    1. [Load the data](#load)\n",
    "    2. [Prepare the data](#prepare)\n",
    "    3. [Feature selection](#feature_selection)\n",
    "    4. [Train and test split](#split)\n",
    "2. [Data Modeling](#modeling)\n",
    "    1. [Linear Regression Model](#linear_regression)\n",
    "    2. [Polynomial Regression Model](#polynomial_regression)\n",
    "    3. [Lasso Regression](#lasso_regression)\n",
    "    4. [Linear Regression Model (TensorFlow)](#linear_regression_tf)\n",
    "3. [Model Evaluation](#evaluation)\n",
    "    1. [RMSE](#rmse)\n",
    "    2. [Cross Validation](#cross_validation)\n",
    "    3. [Learning Curves](#learning_curves)\n",
    "4. [Export the results](#export)"
   ]
  },
  {
   "cell_type": "code",
   "execution_count": 1,
   "metadata": {},
   "outputs": [],
   "source": [
    "# Imports\n",
    "import math\n",
    "import matplotlib.pyplot as plt\n",
    "import numpy as np\n",
    "import os\n",
    "import pandas as pd\n",
    "import tensorflow as tf\n",
    "from IPython.display import display, Markdown as md\n",
    "from sklearn.feature_selection import SelectKBest, chi2\n",
    "from sklearn.linear_model import LinearRegression\n",
    "from sklearn.metrics import mean_squared_error\n",
    "from sklearn.model_selection import train_test_split, cross_val_score\n",
    "from sklearn.preprocessing import PolynomialFeatures\n",
    "\n",
    "\n",
    "# Config\n",
    "%matplotlib notebook\n",
    "pd.options.display.max_columns = None"
   ]
  },
  {
   "cell_type": "markdown",
   "metadata": {},
   "source": [
    "## Data Preparation <a id=\"preparation\"></a>\n",
    "### Load the data <a id=\"load\"></a>\n",
    "Loads *.csv* file into *pandas DataFrame*"
   ]
  },
  {
   "cell_type": "code",
   "execution_count": 2,
   "metadata": {},
   "outputs": [],
   "source": [
    "df = pd.read_csv(\"data/processed/CompleteDataset_cleaned.csv\", sep=\";\")"
   ]
  },
  {
   "cell_type": "markdown",
   "metadata": {},
   "source": [
    "### Prepare the data <a id=\"prepare\"></a>\n",
    "To simplify the model, let's exclude the goalkeepers (*GK*), so we don't have to deal with *null* values."
   ]
  },
  {
   "cell_type": "code",
   "execution_count": 3,
   "metadata": {},
   "outputs": [],
   "source": [
    "df_model = df.drop(\"Name\", axis=\"columns\")\n",
    "\n",
    "exclude_GK = df_model[\"Preferred Position_GK\"] == 0\n",
    "df_model = df_model[exclude_GK]"
   ]
  },
  {
   "cell_type": "code",
   "execution_count": 4,
   "metadata": {},
   "outputs": [],
   "source": [
    "# Define 'target' and 'features'\n",
    "target = \"Value\"\n",
    "features = df_model.columns.values\n",
    "features = features[features != target]\n",
    "\n",
    "X = df_model.loc[:, features]\n",
    "y = df_model.loc[:, [target]]"
   ]
  },
  {
   "cell_type": "markdown",
   "metadata": {},
   "source": [
    "### Feature selection<a id=\"feature_selection\"></a>\n",
    "Let's apply a *feature selection* method in order to reduce the number of attributes in the dataset. Fewer attributes is desirable because it reduces the complexity of the model, and a simpler model is simpler to understand and explain."
   ]
  },
  {
   "cell_type": "code",
   "execution_count": 5,
   "metadata": {},
   "outputs": [
    {
     "data": {
      "text/markdown": [
       "*X* shape: (15952, 40)"
      ],
      "text/plain": [
       "<IPython.core.display.Markdown object>"
      ]
     },
     "metadata": {},
     "output_type": "display_data"
    }
   ],
   "source": [
    "feature_selector = SelectKBest(chi2, k=40)\n",
    "X = feature_selector.fit_transform(X, y)\n",
    "features_selected = feature_selector.get_support()\n",
    "\n",
    "display(md(\"*X* shape: {0}\".format(X.shape)))\n",
    "\n",
    "features = features[features_selected] # Update 'features'"
   ]
  },
  {
   "cell_type": "markdown",
   "metadata": {},
   "source": [
    "### Train and test split <a id=\"split\"></a>\n",
    "Splits the dataset into a *train set* (80%) and *test set* (20%)"
   ]
  },
  {
   "cell_type": "code",
   "execution_count": 6,
   "metadata": {},
   "outputs": [
    {
     "data": {
      "text/markdown": [
       "*X_train* shape: (12761, 40) - *X_test* shape: (3191, 40)"
      ],
      "text/plain": [
       "<IPython.core.display.Markdown object>"
      ]
     },
     "metadata": {},
     "output_type": "display_data"
    },
    {
     "data": {
      "text/markdown": [
       "*y_train* shape: (12761, 1) - *y_test* shape: (3191, 1)"
      ],
      "text/plain": [
       "<IPython.core.display.Markdown object>"
      ]
     },
     "metadata": {},
     "output_type": "display_data"
    }
   ],
   "source": [
    "X_train, X_test, y_train, y_test = train_test_split(X, y, test_size=0.2, random_state=42)\n",
    "\n",
    "display(md(\"*X_train* shape: {0} - *X_test* shape: {1}\".format(X_train.shape, X_test.shape)))\n",
    "display(md(\"*y_train* shape: {0} - *y_test* shape: {1}\".format(y_train.shape, y_test.shape)))"
   ]
  },
  {
   "cell_type": "markdown",
   "metadata": {},
   "source": [
    "## Data Modeling <a id=\"modeling\"></a>\n",
    "### Linear Regression Model <a id=\"linear_regression\"></a>\n",
    "Creates and fits the model"
   ]
  },
  {
   "cell_type": "code",
   "execution_count": 7,
   "metadata": {},
   "outputs": [],
   "source": [
    "lin_reg = LinearRegression()\n",
    "lin_reg.fit(X_train, y_train);"
   ]
  },
  {
   "cell_type": "markdown",
   "metadata": {},
   "source": [
    "Let's visualize the highest *Linear Regression coefficients*"
   ]
  },
  {
   "cell_type": "code",
   "execution_count": 8,
   "metadata": {},
   "outputs": [
    {
     "data": {
      "text/plain": [
       "<matplotlib.axes._subplots.AxesSubplot at 0x202000016d8>"
      ]
     },
     "execution_count": 8,
     "metadata": {},
     "output_type": "execute_result"
    },
    {
     "data": {
      "image/png": "[encoded data removed]",
      "text/plain": [
       "<Figure size 432x288 with 1 Axes>"
      ]
     },
     "metadata": {
      "needs_background": "light"
     },
     "output_type": "display_data"
    }
   ],
   "source": [
    "# Create new DataFrame with the coefficients per each feature\n",
    "coeff_df = pd.DataFrame(data=lin_reg.coef_[0], index=features, columns=[\"coeff\"])\n",
    "coeff_df.sort_values(by=\"coeff\", ascending=False, inplace=True) # Sort 'coeff_df' in descending order\n",
    "\n",
    "coeff_df.iloc[0:20].sort_values(by=\"coeff\").plot.barh()"
   ]
  },
  {
   "cell_type": "markdown",
   "metadata": {},
   "source": [
    "Saves the prediction in *predictions*"
   ]
  },
  {
   "cell_type": "code",
   "execution_count": 9,
   "metadata": {},
   "outputs": [],
   "source": [
    "predictions = lin_reg.predict(X_test)"
   ]
  },
  {
   "cell_type": "markdown",
   "metadata": {},
   "source": [
    "### Polynomial Regression Model <a id=\"polynomial_regression\"></a>\n",
    "A simple way to use a linear model to fit nonlinear data is to add powers of each feature as new features, and then train a linear model on this extended set of features."
   ]
  },
  {
   "cell_type": "code",
   "execution_count": 10,
   "metadata": {},
   "outputs": [],
   "source": [
    "d = 2\n",
    "poly_features = PolynomialFeatures(degree=d, include_bias=False)\n",
    "\n",
    "# Add the square of each feature and the combinations of features up to 2 degree\n",
    "X_train_poly = poly_features.fit_transform(X_train)\n",
    "X_test_poly = poly_features.fit_transform(X_test)"
   ]
  },
  {
   "cell_type": "markdown",
   "metadata": {},
   "source": [
    "The number of features created by *PolynomialFeatures* can be calculated with the following equation:\n",
    "\n",
    "\\begin{align}\n",
    "\\frac{(n + d)!}{d!n!}\\\n",
    "\\end{align}"
   ]
  },
  {
   "cell_type": "code",
   "execution_count": 11,
   "metadata": {},
   "outputs": [
    {
     "data": {
      "text/markdown": [
       "*X_train_poly* should now have 860 features"
      ],
      "text/plain": [
       "<IPython.core.display.Markdown object>"
      ]
     },
     "metadata": {},
     "output_type": "display_data"
    },
    {
     "data": {
      "text/markdown": [
       "*X* shape: (15952, 40)"
      ],
      "text/plain": [
       "<IPython.core.display.Markdown object>"
      ]
     },
     "metadata": {},
     "output_type": "display_data"
    },
    {
     "data": {
      "text/markdown": [
       "*X_train_poly* shape: (12761, 860)"
      ],
      "text/plain": [
       "<IPython.core.display.Markdown object>"
      ]
     },
     "metadata": {},
     "output_type": "display_data"
    },
    {
     "data": {
      "text/markdown": [
       "*X_test_poly* shape: (3191, 860)"
      ],
      "text/plain": [
       "<IPython.core.display.Markdown object>"
      ]
     },
     "metadata": {},
     "output_type": "display_data"
    }
   ],
   "source": [
    "n = X.shape[1]\n",
    "poly_features_count = int(math.factorial(n + d) / (math.factorial(d) * math.factorial(n))) - 1\n",
    "\n",
    "display(md(\"*X_train_poly* should now have {0} features\".format(poly_features_count)))\n",
    "\n",
    "display(md(\"*X* shape: {0}\".format(X.shape)))\n",
    "display(md(\"*X_train_poly* shape: {0}\".format(X_train_poly.shape)))\n",
    "display(md(\"*X_test_poly* shape: {0}\".format(X_test_poly.shape)))"
   ]
  },
  {
   "cell_type": "code",
   "execution_count": 12,
   "metadata": {},
   "outputs": [],
   "source": [
    "poly_reg = LinearRegression()\n",
    "poly_reg.fit(X_train_poly, y_train)\n",
    "predictions_poly = poly_reg.predict(X_test_poly)"
   ]
  },
  {
   "cell_type": "markdown",
   "metadata": {},
   "source": [
    "### Lasso Regression<a id=\"lasso_regression\"></a>\n",
    "Is a regularized version of *Linear Regression*. It adds a regularization term to the cost function. This forces the learning algorithm to not only fit the data but also keep the model weights as small as possible."
   ]
  },
  {
   "cell_type": "code",
   "execution_count": 13,
   "metadata": {},
   "outputs": [
    {
     "name": "stderr",
     "output_type": "stream",
     "text": [
      "c:\\users\\matias\\miniconda3\\lib\\site-packages\\sklearn\\linear_model\\coordinate_descent.py:492: ConvergenceWarning: Objective did not converge. You might want to increase the number of iterations. Fitting data with very small alpha may cause precision problems.\n",
      "  ConvergenceWarning)\n"
     ]
    }
   ],
   "source": [
    "from sklearn.linear_model import Lasso\n",
    "\n",
    "lasso_reg = Lasso(alpha=1)\n",
    "lasso_reg.fit(X_train_poly, y_train)\n",
    "predictions_lasso = lasso_reg.predict(X_test_poly)"
   ]
  },
  {
   "cell_type": "markdown",
   "metadata": {},
   "source": [
    "### Linear Regression Model (TensorFlow)<a id=\"linear_regression_tf\"></a>\n",
    "Let´s make a *Linear Regression* with *TensorFlow* library."
   ]
  },
  {
   "cell_type": "code",
   "execution_count": 14,
   "metadata": {},
   "outputs": [],
   "source": [
    "tf.reset_default_graph()\n",
    "\n",
    "n_epochs = 20000\n",
    "learning_rate = 0.05\n",
    "\n",
    "X_train_tf = np.c_[np.ones((X_train.shape[0], 1)), X_train]\n",
    "\n",
    "# 'y_pred_tf' = 'X_tf' * 'theta'\n",
    "X_tf = tf.constant(X_train_tf, dtype=tf.float32, name=\"X\")\n",
    "theta = tf.Variable(tf.random_uniform([n + 1, 1], -1.0, 1.0, seed=42), name=\"theta\")\n",
    "y_pred_tf = tf.matmul(X_tf, theta, name=\"predictions\")\n",
    "\n",
    "# Calculates the error ('y_pred_tf' - 'y_tf')\n",
    "y_tf = tf.constant(y_train.values, dtype=tf.float32, name=\"y\")\n",
    "error = y_pred_tf - y_tf\n",
    "mse = tf.reduce_mean(tf.square(error), name=\"mse\")"
   ]
  },
  {
   "cell_type": "code",
   "execution_count": 15,
   "metadata": {},
   "outputs": [],
   "source": [
    "# Minimizes the MSE with Gradient Descent\n",
    "optimizer = tf.train.GradientDescentOptimizer(learning_rate=learning_rate)\n",
    "training_op = optimizer.minimize(mse)"
   ]
  },
  {
   "cell_type": "code",
   "execution_count": 26,
   "metadata": {},
   "outputs": [
    {
     "name": "stdout",
     "output_type": "stream",
     "text": [
      "Epoch 0 - RMSE: 5929636.0\n",
      "Epoch 1000 - RMSE: 3701456.0\n",
      "Epoch 2000 - RMSE: 3488199.75\n",
      "Epoch 3000 - RMSE: 3345638.25\n",
      "Epoch 4000 - RMSE: 3229793.5\n",
      "Epoch 5000 - RMSE: 3132454.25\n",
      "Epoch 6000 - RMSE: 3050235.0\n",
      "Epoch 7000 - RMSE: 2980808.75\n",
      "Epoch 8000 - RMSE: 2922272.25\n",
      "Epoch 9000 - RMSE: 2872997.0\n",
      "Epoch 10000 - RMSE: 2831582.0\n",
      "Epoch 11000 - RMSE: 2796822.25\n",
      "Epoch 12000 - RMSE: 2767685.5\n",
      "Epoch 13000 - RMSE: 2743289.5\n",
      "Epoch 14000 - RMSE: 2722881.75\n",
      "Epoch 15000 - RMSE: 2705824.75\n",
      "Epoch 16000 - RMSE: 2691578.5\n",
      "Epoch 17000 - RMSE: 2679686.25\n",
      "Epoch 18000 - RMSE: 2669763.5\n",
      "Epoch 19000 - RMSE: 2661488.0\n"
     ]
    }
   ],
   "source": [
    "init = tf.global_variables_initializer()\n",
    "\n",
    "with tf.Session() as sess:\n",
    "    sess.run(init)\n",
    "\n",
    "    for epoch in range(n_epochs):\n",
    "        if epoch % 1000 == 0:\n",
    "            print(\"Epoch {0} - RMSE: {1}\".format(epoch,np.sqrt(mse.eval())))\n",
    "        sess.run(training_op)\n",
    "    \n",
    "    best_theta = theta.eval()"
   ]
  },
  {
   "cell_type": "code",
   "execution_count": 17,
   "metadata": {},
   "outputs": [],
   "source": [
    "X_test_tf = np.c_[np.ones((X_test.shape[0], 1)), X_test]\n",
    "\n",
    "# Makes the predictions: 'X_test_tf' * 'best_theta'\n",
    "predictions_lin_reg_tf = np.matmul(X_test_tf, best_theta)"
   ]
  },
  {
   "cell_type": "markdown",
   "metadata": {},
   "source": [
    "## Model Evaluation <a id=\"evaluation\"></a>\n",
    "### RMSE <a id=\"rmse\"></a>"
   ]
  },
  {
   "cell_type": "code",
   "execution_count": 18,
   "metadata": {},
   "outputs": [
    {
     "data": {
      "text/markdown": [
       "**Linear Regression - Root Mean Squared Error: €2,563,231**"
      ],
      "text/plain": [
       "<IPython.core.display.Markdown object>"
      ]
     },
     "metadata": {},
     "output_type": "display_data"
    },
    {
     "data": {
      "text/markdown": [
       "**Polynomial Regression - Root Mean Squared Error: €1,359,565**"
      ],
      "text/plain": [
       "<IPython.core.display.Markdown object>"
      ]
     },
     "metadata": {},
     "output_type": "display_data"
    },
    {
     "data": {
      "text/markdown": [
       "**Lasso Regression - Root Mean Squared Error: €1,358,909**"
      ],
      "text/plain": [
       "<IPython.core.display.Markdown object>"
      ]
     },
     "metadata": {},
     "output_type": "display_data"
    },
    {
     "data": {
      "text/markdown": [
       "**Linear Regression (TensorFlow) - Root Mean Squared Error: €2,568,482**"
      ],
      "text/plain": [
       "<IPython.core.display.Markdown object>"
      ]
     },
     "metadata": {},
     "output_type": "display_data"
    }
   ],
   "source": [
    "lin_mse = mean_squared_error(predictions, y_test)\n",
    "poly_mse = mean_squared_error(predictions_poly, y_test)\n",
    "lasso_mse = mean_squared_error(predictions_lasso, y_test)\n",
    "lin_reg_tf_mse = mean_squared_error(predictions_lin_reg_tf, y_test)\n",
    "lin_rmse = np.sqrt(lin_mse)\n",
    "poly_rmse = np.sqrt(poly_mse)\n",
    "lasso_rmse = np.sqrt(lasso_mse)\n",
    "lin_reg_tf_rmse = np.sqrt(lin_reg_tf_mse)\n",
    "\n",
    "display(md(\"**Linear Regression - Root Mean Squared Error: €{0:,}**\".format(int(lin_rmse))))\n",
    "display(md(\"**Polynomial Regression - Root Mean Squared Error: €{0:,}**\".format(int(poly_rmse))))\n",
    "display(md(\"**Lasso Regression - Root Mean Squared Error: €{0:,}**\".format(int(lasso_rmse))))\n",
    "display(md(\"**Linear Regression (TensorFlow) - Root Mean Squared Error: €{0:,}**\".format(int(lin_reg_tf_rmse))))"
   ]
  },
  {
   "cell_type": "markdown",
   "metadata": {},
   "source": [
    "### Cross Validation <a id=\"cross_validation\"></a>"
   ]
  },
  {
   "cell_type": "code",
   "execution_count": 19,
   "metadata": {},
   "outputs": [
    {
     "name": "stderr",
     "output_type": "stream",
     "text": [
      "c:\\users\\matias\\miniconda3\\lib\\site-packages\\sklearn\\linear_model\\coordinate_descent.py:492: ConvergenceWarning: Objective did not converge. You might want to increase the number of iterations. Fitting data with very small alpha may cause precision problems.\n",
      "  ConvergenceWarning)\n",
      "c:\\users\\matias\\miniconda3\\lib\\site-packages\\sklearn\\linear_model\\coordinate_descent.py:492: ConvergenceWarning: Objective did not converge. You might want to increase the number of iterations. Fitting data with very small alpha may cause precision problems.\n",
      "  ConvergenceWarning)\n",
      "c:\\users\\matias\\miniconda3\\lib\\site-packages\\sklearn\\linear_model\\coordinate_descent.py:492: ConvergenceWarning: Objective did not converge. You might want to increase the number of iterations. Fitting data with very small alpha may cause precision problems.\n",
      "  ConvergenceWarning)\n",
      "c:\\users\\matias\\miniconda3\\lib\\site-packages\\sklearn\\linear_model\\coordinate_descent.py:492: ConvergenceWarning: Objective did not converge. You might want to increase the number of iterations. Fitting data with very small alpha may cause precision problems.\n",
      "  ConvergenceWarning)\n",
      "c:\\users\\matias\\miniconda3\\lib\\site-packages\\sklearn\\linear_model\\coordinate_descent.py:492: ConvergenceWarning: Objective did not converge. You might want to increase the number of iterations. Fitting data with very small alpha may cause precision problems.\n",
      "  ConvergenceWarning)\n"
     ]
    },
    {
     "data": {
      "text/markdown": [
       "**Linear Regression Model**"
      ],
      "text/plain": [
       "<IPython.core.display.Markdown object>"
      ]
     },
     "metadata": {},
     "output_type": "display_data"
    },
    {
     "data": {
      "text/markdown": [
       "Scores: [2633556.28272506 2672835.51951707 2733699.22954182 2568839.11605388\n",
       " 2528812.42539231]"
      ],
      "text/plain": [
       "<IPython.core.display.Markdown object>"
      ]
     },
     "metadata": {},
     "output_type": "display_data"
    },
    {
     "data": {
      "text/markdown": [
       "Mean: 2,627,548.51"
      ],
      "text/plain": [
       "<IPython.core.display.Markdown object>"
      ]
     },
     "metadata": {},
     "output_type": "display_data"
    },
    {
     "data": {
      "text/markdown": [
       "Standard deviation: 72,870.56"
      ],
      "text/plain": [
       "<IPython.core.display.Markdown object>"
      ]
     },
     "metadata": {},
     "output_type": "display_data"
    },
    {
     "data": {
      "text/markdown": [
       "**Polynomial Regression Model**"
      ],
      "text/plain": [
       "<IPython.core.display.Markdown object>"
      ]
     },
     "metadata": {},
     "output_type": "display_data"
    },
    {
     "data": {
      "text/markdown": [
       "Scores: [1465359.78057266 1332521.65951097 1390189.29504785 1443802.14779562\n",
       " 1323463.41522829]"
      ],
      "text/plain": [
       "<IPython.core.display.Markdown object>"
      ]
     },
     "metadata": {},
     "output_type": "display_data"
    },
    {
     "data": {
      "text/markdown": [
       "Mean: 1,391,067.26"
      ],
      "text/plain": [
       "<IPython.core.display.Markdown object>"
      ]
     },
     "metadata": {},
     "output_type": "display_data"
    },
    {
     "data": {
      "text/markdown": [
       "Standard deviation: 57,094.63"
      ],
      "text/plain": [
       "<IPython.core.display.Markdown object>"
      ]
     },
     "metadata": {},
     "output_type": "display_data"
    },
    {
     "data": {
      "text/markdown": [
       "**Lasso Regression Model**"
      ],
      "text/plain": [
       "<IPython.core.display.Markdown object>"
      ]
     },
     "metadata": {},
     "output_type": "display_data"
    },
    {
     "data": {
      "text/markdown": [
       "Scores: [1478754.7004349  1333103.00595044 1345342.06365019 1443688.10558567\n",
       " 1283549.66359192]"
      ],
      "text/plain": [
       "<IPython.core.display.Markdown object>"
      ]
     },
     "metadata": {},
     "output_type": "display_data"
    },
    {
     "data": {
      "text/markdown": [
       "Mean: 1,376,887.51"
      ],
      "text/plain": [
       "<IPython.core.display.Markdown object>"
      ]
     },
     "metadata": {},
     "output_type": "display_data"
    },
    {
     "data": {
      "text/markdown": [
       "Standard deviation: 72,750.80"
      ],
      "text/plain": [
       "<IPython.core.display.Markdown object>"
      ]
     },
     "metadata": {},
     "output_type": "display_data"
    }
   ],
   "source": [
    "lin_scores = cross_val_score(lin_reg, X_train, y_train, scoring=\"neg_mean_squared_error\", cv=5)\n",
    "lin_rmse_scores = np.sqrt(-lin_scores)\n",
    "\n",
    "poly_scores = cross_val_score(poly_reg, X_train_poly, y_train, scoring=\"neg_mean_squared_error\", cv=5)\n",
    "poly_rmse_scores = np.sqrt(-poly_scores)\n",
    "\n",
    "lasso_scores = cross_val_score(lasso_reg, X_train_poly, y_train, scoring=\"neg_mean_squared_error\", cv=5)\n",
    "lasso_rmse_scores = np.sqrt(-lasso_scores)\n",
    "\n",
    "display(md(\"**Linear Regression Model**\"))\n",
    "display(md(\"Scores: {0}\".format(lin_rmse_scores)))\n",
    "display(md(\"Mean: {0:,.2f}\".format(lin_rmse_scores.mean())))\n",
    "display(md(\"Standard deviation: {0:,.2f}\".format(lin_rmse_scores.std())))\n",
    "\n",
    "display(md(\"**Polynomial Regression Model**\"))\n",
    "display(md(\"Scores: {0}\".format(poly_rmse_scores)))\n",
    "display(md(\"Mean: {0:,.2f}\".format(poly_rmse_scores.mean())))\n",
    "display(md(\"Standard deviation: {0:,.2f}\".format(poly_rmse_scores.std())))\n",
    "\n",
    "display(md(\"**Lasso Regression Model**\"))\n",
    "display(md(\"Scores: {0}\".format(lasso_rmse_scores)))\n",
    "display(md(\"Mean: {0:,.2f}\".format(lasso_rmse_scores.mean())))\n",
    "display(md(\"Standard deviation: {0:,.2f}\".format(lasso_rmse_scores.std())))"
   ]
  },
  {
   "cell_type": "markdown",
   "metadata": {},
   "source": [
    "### Learning Curves <a id=\"learning_curves\"></a>\n",
    "These are plots of the model's performance on the training set and the validation set as a function of the training set size. These plots help us to analyze if the models are *underfitting* or *overfitting* the data."
   ]
  },
  {
   "cell_type": "code",
   "execution_count": 20,
   "metadata": {},
   "outputs": [],
   "source": [
    "def plot_learning_curves(model, X, y, step=500):\n",
    "    X_train, X_val, y_train, y_val = train_test_split(X, y, test_size=0.2, random_state=10)\n",
    "    train_errors, val_errors = [], []\n",
    "    x_values = range(1, len(X_train), step)\n",
    "    for m in x_values:\n",
    "        model.fit(X_train[:m], y_train[:m])\n",
    "        y_train_predict = model.predict(X_train[:m])\n",
    "        y_val_predict = model.predict(X_val)\n",
    "        train_errors.append(mean_squared_error(y_train[:m], y_train_predict))\n",
    "        val_errors.append(mean_squared_error(y_val, y_val_predict))\n",
    "\n",
    "    plt.plot(x_values, np.sqrt(train_errors), \"r-+\", linewidth=2, label=\"train\")\n",
    "    plt.plot(x_values, np.sqrt(val_errors), \"b-\", linewidth=3, label=\"val\")\n",
    "    plt.legend(loc=\"upper right\", fontsize=14)\n",
    "    plt.xlabel(\"Training set size\", fontsize=14)\n",
    "    plt.ylabel(\"RMSE\", fontsize=14)\n",
    "    plt.yscale(\"log\")\n",
    "    \n"
   ]
  },
  {
   "cell_type": "markdown",
   "metadata": {},
   "source": [
    "The **Linear Regression Model** is underfitting the data. The curves reached a plateau, and adding more training examples don't help. We have to use a more complex model (*Polynomial Regression Model*) or come up with better features."
   ]
  },
  {
   "cell_type": "code",
   "execution_count": 21,
   "metadata": {},
   "outputs": [
    {
     "data": {
      "image/png": "[encoded data removed]",
      "text/plain": [
       "<Figure size 576x576 with 1 Axes>"
      ]
     },
     "metadata": {
      "needs_background": "light"
     },
     "output_type": "display_data"
    }
   ],
   "source": [
    "# Plots the learning curves for the Linear Regression Model\n",
    "fig, axes = plt.subplots(nrows=1, ncols=1, figsize=(8, 8))\n",
    "lin_reg = LinearRegression()\n",
    "plot_learning_curves(lin_reg, X, y, step=100)\n",
    "plt.show()"
   ]
  },
  {
   "cell_type": "markdown",
   "metadata": {},
   "source": [
    "The **Polynomial Regression Model** overfits (the gap between the curves is huge!) until ≈9000 training examples. Then, it seems that the model fits great."
   ]
  },
  {
   "cell_type": "code",
   "execution_count": 22,
   "metadata": {},
   "outputs": [
    {
     "data": {
      "image/png": "[encoded data removed]",
      "text/plain": [
       "<Figure size 576x576 with 1 Axes>"
      ]
     },
     "metadata": {
      "needs_background": "light"
     },
     "output_type": "display_data"
    }
   ],
   "source": [
    "# Plots the learning curves for the Polynomial Regression Model\n",
    "fig, axes = plt.subplots(nrows=1, ncols=1, figsize=(8, 8))\n",
    "plot_learning_curves(poly_reg, np.append(X_train_poly, X_test_poly, axis=0), y, step=1000)\n",
    "plt.show()"
   ]
  },
  {
   "cell_type": "markdown",
   "metadata": {},
   "source": [
    "## Export the results <a id=\"export\"></a>"
   ]
  },
  {
   "cell_type": "code",
   "execution_count": 23,
   "metadata": {},
   "outputs": [
    {
     "data": {
      "text/html": [
       "<div>\n",
       "<style scoped>\n",
       "    .dataframe tbody tr th:only-of-type {\n",
       "        vertical-align: middle;\n",
       "    }\n",
       "\n",
       "    .dataframe tbody tr th {\n",
       "        vertical-align: top;\n",
       "    }\n",
       "\n",
       "    .dataframe thead th {\n",
       "        text-align: right;\n",
       "    }\n",
       "</style>\n",
       "<table border=\"1\" class=\"dataframe\">\n",
       "  <thead>\n",
       "    <tr style=\"text-align: right;\">\n",
       "      <th></th>\n",
       "      <th>Overall</th>\n",
       "      <th>Potential</th>\n",
       "      <th>Wage</th>\n",
       "      <th>Special</th>\n",
       "      <th>Curve</th>\n",
       "      <th>Free kick accuracy</th>\n",
       "      <th>Long shots</th>\n",
       "      <th>Penalties</th>\n",
       "      <th>Reactions</th>\n",
       "      <th>CAM</th>\n",
       "      <th>CDM</th>\n",
       "      <th>CF</th>\n",
       "      <th>CM</th>\n",
       "      <th>LAM</th>\n",
       "      <th>LB</th>\n",
       "      <th>LCM</th>\n",
       "      <th>LDM</th>\n",
       "      <th>LF</th>\n",
       "      <th>LM</th>\n",
       "      <th>LS</th>\n",
       "      <th>LW</th>\n",
       "      <th>LWB</th>\n",
       "      <th>RAM</th>\n",
       "      <th>RB</th>\n",
       "      <th>RCM</th>\n",
       "      <th>RDM</th>\n",
       "      <th>RF</th>\n",
       "      <th>RM</th>\n",
       "      <th>RS</th>\n",
       "      <th>RW</th>\n",
       "      <th>RWB</th>\n",
       "      <th>ST</th>\n",
       "      <th>Preferred Position_CAM</th>\n",
       "      <th>Preferred Position_CB</th>\n",
       "      <th>Preferred Position_CDM</th>\n",
       "      <th>Preferred Position_LB</th>\n",
       "      <th>Preferred Position_LM</th>\n",
       "      <th>Preferred Position_LW</th>\n",
       "      <th>Preferred Position_RW</th>\n",
       "      <th>Preferred Position_ST</th>\n",
       "      <th>index</th>\n",
       "      <th>Value</th>\n",
       "      <th>Prediction Linear Regression</th>\n",
       "      <th>Prediction Polynomial Regression</th>\n",
       "      <th>Prediction Lasso Regression</th>\n",
       "      <th>Prediction Lasso Regression (TF)</th>\n",
       "    </tr>\n",
       "  </thead>\n",
       "  <tbody>\n",
       "    <tr>\n",
       "      <th>0</th>\n",
       "      <td>0.625000</td>\n",
       "      <td>0.625000</td>\n",
       "      <td>0.024779</td>\n",
       "      <td>0.769034</td>\n",
       "      <td>0.720930</td>\n",
       "      <td>0.764045</td>\n",
       "      <td>0.764045</td>\n",
       "      <td>0.735632</td>\n",
       "      <td>0.647059</td>\n",
       "      <td>0.738462</td>\n",
       "      <td>0.542373</td>\n",
       "      <td>0.738462</td>\n",
       "      <td>0.701754</td>\n",
       "      <td>0.738462</td>\n",
       "      <td>0.500000</td>\n",
       "      <td>0.701754</td>\n",
       "      <td>0.542373</td>\n",
       "      <td>0.738462</td>\n",
       "      <td>0.741935</td>\n",
       "      <td>0.704918</td>\n",
       "      <td>0.753846</td>\n",
       "      <td>0.547170</td>\n",
       "      <td>0.738462</td>\n",
       "      <td>0.500000</td>\n",
       "      <td>0.701754</td>\n",
       "      <td>0.542373</td>\n",
       "      <td>0.738462</td>\n",
       "      <td>0.741935</td>\n",
       "      <td>0.704918</td>\n",
       "      <td>0.753846</td>\n",
       "      <td>0.547170</td>\n",
       "      <td>0.704918</td>\n",
       "      <td>0.0</td>\n",
       "      <td>0.0</td>\n",
       "      <td>0.0</td>\n",
       "      <td>0.0</td>\n",
       "      <td>0.0</td>\n",
       "      <td>0.0</td>\n",
       "      <td>0.0</td>\n",
       "      <td>0.0</td>\n",
       "      <td>1486</td>\n",
       "      <td>8500000.0</td>\n",
       "      <td>4.753322e+06</td>\n",
       "      <td>6.732793e+06</td>\n",
       "      <td>6.691195e+06</td>\n",
       "      <td>5.147897e+06</td>\n",
       "    </tr>\n",
       "    <tr>\n",
       "      <th>1</th>\n",
       "      <td>0.291667</td>\n",
       "      <td>0.458333</td>\n",
       "      <td>0.003540</td>\n",
       "      <td>0.516955</td>\n",
       "      <td>0.546512</td>\n",
       "      <td>0.303371</td>\n",
       "      <td>0.438202</td>\n",
       "      <td>0.310345</td>\n",
       "      <td>0.264706</td>\n",
       "      <td>0.400000</td>\n",
       "      <td>0.491525</td>\n",
       "      <td>0.400000</td>\n",
       "      <td>0.385965</td>\n",
       "      <td>0.400000</td>\n",
       "      <td>0.537037</td>\n",
       "      <td>0.385965</td>\n",
       "      <td>0.491525</td>\n",
       "      <td>0.400000</td>\n",
       "      <td>0.467742</td>\n",
       "      <td>0.327869</td>\n",
       "      <td>0.461538</td>\n",
       "      <td>0.528302</td>\n",
       "      <td>0.400000</td>\n",
       "      <td>0.537037</td>\n",
       "      <td>0.385965</td>\n",
       "      <td>0.491525</td>\n",
       "      <td>0.400000</td>\n",
       "      <td>0.467742</td>\n",
       "      <td>0.327869</td>\n",
       "      <td>0.461538</td>\n",
       "      <td>0.528302</td>\n",
       "      <td>0.327869</td>\n",
       "      <td>0.0</td>\n",
       "      <td>0.0</td>\n",
       "      <td>0.0</td>\n",
       "      <td>0.0</td>\n",
       "      <td>0.0</td>\n",
       "      <td>0.0</td>\n",
       "      <td>0.0</td>\n",
       "      <td>0.0</td>\n",
       "      <td>14611</td>\n",
       "      <td>260000.0</td>\n",
       "      <td>-7.146919e+05</td>\n",
       "      <td>-2.389956e+05</td>\n",
       "      <td>-3.768178e+05</td>\n",
       "      <td>-6.123832e+05</td>\n",
       "    </tr>\n",
       "    <tr>\n",
       "      <th>2</th>\n",
       "      <td>0.479167</td>\n",
       "      <td>0.708333</td>\n",
       "      <td>0.028319</td>\n",
       "      <td>0.614203</td>\n",
       "      <td>0.767442</td>\n",
       "      <td>0.764045</td>\n",
       "      <td>0.707865</td>\n",
       "      <td>0.632184</td>\n",
       "      <td>0.500000</td>\n",
       "      <td>0.630769</td>\n",
       "      <td>0.355932</td>\n",
       "      <td>0.615385</td>\n",
       "      <td>0.561404</td>\n",
       "      <td>0.630769</td>\n",
       "      <td>0.296296</td>\n",
       "      <td>0.561404</td>\n",
       "      <td>0.355932</td>\n",
       "      <td>0.615385</td>\n",
       "      <td>0.629032</td>\n",
       "      <td>0.491803</td>\n",
       "      <td>0.646154</td>\n",
       "      <td>0.358491</td>\n",
       "      <td>0.630769</td>\n",
       "      <td>0.296296</td>\n",
       "      <td>0.561404</td>\n",
       "      <td>0.355932</td>\n",
       "      <td>0.615385</td>\n",
       "      <td>0.629032</td>\n",
       "      <td>0.491803</td>\n",
       "      <td>0.646154</td>\n",
       "      <td>0.358491</td>\n",
       "      <td>0.491803</td>\n",
       "      <td>1.0</td>\n",
       "      <td>0.0</td>\n",
       "      <td>0.0</td>\n",
       "      <td>0.0</td>\n",
       "      <td>0.0</td>\n",
       "      <td>0.0</td>\n",
       "      <td>0.0</td>\n",
       "      <td>0.0</td>\n",
       "      <td>5858</td>\n",
       "      <td>1800000.0</td>\n",
       "      <td>5.220287e+06</td>\n",
       "      <td>3.180718e+06</td>\n",
       "      <td>3.033758e+06</td>\n",
       "      <td>5.262964e+06</td>\n",
       "    </tr>\n",
       "    <tr>\n",
       "      <th>3</th>\n",
       "      <td>0.375000</td>\n",
       "      <td>0.479167</td>\n",
       "      <td>0.007080</td>\n",
       "      <td>0.661548</td>\n",
       "      <td>0.453488</td>\n",
       "      <td>0.415730</td>\n",
       "      <td>0.662921</td>\n",
       "      <td>0.436782</td>\n",
       "      <td>0.485294</td>\n",
       "      <td>0.538462</td>\n",
       "      <td>0.644068</td>\n",
       "      <td>0.538462</td>\n",
       "      <td>0.578947</td>\n",
       "      <td>0.538462</td>\n",
       "      <td>0.611111</td>\n",
       "      <td>0.578947</td>\n",
       "      <td>0.644068</td>\n",
       "      <td>0.538462</td>\n",
       "      <td>0.564516</td>\n",
       "      <td>0.475410</td>\n",
       "      <td>0.538462</td>\n",
       "      <td>0.622642</td>\n",
       "      <td>0.538462</td>\n",
       "      <td>0.611111</td>\n",
       "      <td>0.578947</td>\n",
       "      <td>0.644068</td>\n",
       "      <td>0.538462</td>\n",
       "      <td>0.564516</td>\n",
       "      <td>0.475410</td>\n",
       "      <td>0.538462</td>\n",
       "      <td>0.622642</td>\n",
       "      <td>0.475410</td>\n",
       "      <td>0.0</td>\n",
       "      <td>0.0</td>\n",
       "      <td>0.0</td>\n",
       "      <td>0.0</td>\n",
       "      <td>0.0</td>\n",
       "      <td>0.0</td>\n",
       "      <td>0.0</td>\n",
       "      <td>0.0</td>\n",
       "      <td>11677</td>\n",
       "      <td>600000.0</td>\n",
       "      <td>5.308579e+05</td>\n",
       "      <td>2.190372e+05</td>\n",
       "      <td>2.743774e+05</td>\n",
       "      <td>4.633124e+05</td>\n",
       "    </tr>\n",
       "    <tr>\n",
       "      <th>4</th>\n",
       "      <td>0.333333</td>\n",
       "      <td>0.395833</td>\n",
       "      <td>0.001770</td>\n",
       "      <td>0.637876</td>\n",
       "      <td>0.616279</td>\n",
       "      <td>0.662921</td>\n",
       "      <td>0.573034</td>\n",
       "      <td>0.459770</td>\n",
       "      <td>0.500000</td>\n",
       "      <td>0.523077</td>\n",
       "      <td>0.559322</td>\n",
       "      <td>0.523077</td>\n",
       "      <td>0.543860</td>\n",
       "      <td>0.523077</td>\n",
       "      <td>0.555556</td>\n",
       "      <td>0.543860</td>\n",
       "      <td>0.559322</td>\n",
       "      <td>0.523077</td>\n",
       "      <td>0.548387</td>\n",
       "      <td>0.491803</td>\n",
       "      <td>0.538462</td>\n",
       "      <td>0.566038</td>\n",
       "      <td>0.523077</td>\n",
       "      <td>0.555556</td>\n",
       "      <td>0.543860</td>\n",
       "      <td>0.559322</td>\n",
       "      <td>0.523077</td>\n",
       "      <td>0.548387</td>\n",
       "      <td>0.491803</td>\n",
       "      <td>0.538462</td>\n",
       "      <td>0.566038</td>\n",
       "      <td>0.491803</td>\n",
       "      <td>0.0</td>\n",
       "      <td>0.0</td>\n",
       "      <td>0.0</td>\n",
       "      <td>0.0</td>\n",
       "      <td>0.0</td>\n",
       "      <td>0.0</td>\n",
       "      <td>0.0</td>\n",
       "      <td>1.0</td>\n",
       "      <td>13011</td>\n",
       "      <td>375000.0</td>\n",
       "      <td>-7.143724e+05</td>\n",
       "      <td>1.003008e+05</td>\n",
       "      <td>6.546131e+05</td>\n",
       "      <td>-8.273442e+05</td>\n",
       "    </tr>\n",
       "  </tbody>\n",
       "</table>\n",
       "</div>"
      ],
      "text/plain": [
       "    Overall  Potential      Wage   Special     Curve  Free kick accuracy  \\\n",
       "0  0.625000   0.625000  0.024779  0.769034  0.720930            0.764045   \n",
       "1  0.291667   0.458333  0.003540  0.516955  0.546512            0.303371   \n",
       "2  0.479167   0.708333  0.028319  0.614203  0.767442            0.764045   \n",
       "3  0.375000   0.479167  0.007080  0.661548  0.453488            0.415730   \n",
       "4  0.333333   0.395833  0.001770  0.637876  0.616279            0.662921   \n",
       "\n",
       "   Long shots  Penalties  Reactions       CAM       CDM        CF        CM  \\\n",
       "0    0.764045   0.735632   0.647059  0.738462  0.542373  0.738462  0.701754   \n",
       "1    0.438202   0.310345   0.264706  0.400000  0.491525  0.400000  0.385965   \n",
       "2    0.707865   0.632184   0.500000  0.630769  0.355932  0.615385  0.561404   \n",
       "3    0.662921   0.436782   0.485294  0.538462  0.644068  0.538462  0.578947   \n",
       "4    0.573034   0.459770   0.500000  0.523077  0.559322  0.523077  0.543860   \n",
       "\n",
       "        LAM        LB       LCM       LDM        LF        LM        LS  \\\n",
       "0  0.738462  0.500000  0.701754  0.542373  0.738462  0.741935  0.704918   \n",
       "1  0.400000  0.537037  0.385965  0.491525  0.400000  0.467742  0.327869   \n",
       "2  0.630769  0.296296  0.561404  0.355932  0.615385  0.629032  0.491803   \n",
       "3  0.538462  0.611111  0.578947  0.644068  0.538462  0.564516  0.475410   \n",
       "4  0.523077  0.555556  0.543860  0.559322  0.523077  0.548387  0.491803   \n",
       "\n",
       "         LW       LWB       RAM        RB       RCM       RDM        RF  \\\n",
       "0  0.753846  0.547170  0.738462  0.500000  0.701754  0.542373  0.738462   \n",
       "1  0.461538  0.528302  0.400000  0.537037  0.385965  0.491525  0.400000   \n",
       "2  0.646154  0.358491  0.630769  0.296296  0.561404  0.355932  0.615385   \n",
       "3  0.538462  0.622642  0.538462  0.611111  0.578947  0.644068  0.538462   \n",
       "4  0.538462  0.566038  0.523077  0.555556  0.543860  0.559322  0.523077   \n",
       "\n",
       "         RM        RS        RW       RWB        ST  Preferred Position_CAM  \\\n",
       "0  0.741935  0.704918  0.753846  0.547170  0.704918                     0.0   \n",
       "1  0.467742  0.327869  0.461538  0.528302  0.327869                     0.0   \n",
       "2  0.629032  0.491803  0.646154  0.358491  0.491803                     1.0   \n",
       "3  0.564516  0.475410  0.538462  0.622642  0.475410                     0.0   \n",
       "4  0.548387  0.491803  0.538462  0.566038  0.491803                     0.0   \n",
       "\n",
       "   Preferred Position_CB  Preferred Position_CDM  Preferred Position_LB  \\\n",
       "0                    0.0                     0.0                    0.0   \n",
       "1                    0.0                     0.0                    0.0   \n",
       "2                    0.0                     0.0                    0.0   \n",
       "3                    0.0                     0.0                    0.0   \n",
       "4                    0.0                     0.0                    0.0   \n",
       "\n",
       "   Preferred Position_LM  Preferred Position_LW  Preferred Position_RW  \\\n",
       "0                    0.0                    0.0                    0.0   \n",
       "1                    0.0                    0.0                    0.0   \n",
       "2                    0.0                    0.0                    0.0   \n",
       "3                    0.0                    0.0                    0.0   \n",
       "4                    0.0                    0.0                    0.0   \n",
       "\n",
       "   Preferred Position_ST  index      Value  Prediction Linear Regression  \\\n",
       "0                    0.0   1486  8500000.0                  4.753322e+06   \n",
       "1                    0.0  14611   260000.0                 -7.146919e+05   \n",
       "2                    0.0   5858  1800000.0                  5.220287e+06   \n",
       "3                    0.0  11677   600000.0                  5.308579e+05   \n",
       "4                    1.0  13011   375000.0                 -7.143724e+05   \n",
       "\n",
       "   Prediction Polynomial Regression  Prediction Lasso Regression  \\\n",
       "0                      6.732793e+06                 6.691195e+06   \n",
       "1                     -2.389956e+05                -3.768178e+05   \n",
       "2                      3.180718e+06                 3.033758e+06   \n",
       "3                      2.190372e+05                 2.743774e+05   \n",
       "4                      1.003008e+05                 6.546131e+05   \n",
       "\n",
       "   Prediction Lasso Regression (TF)  \n",
       "0                      5.147897e+06  \n",
       "1                     -6.123832e+05  \n",
       "2                      5.262964e+06  \n",
       "3                      4.633124e+05  \n",
       "4                     -8.273442e+05  "
      ]
     },
     "metadata": {},
     "output_type": "display_data"
    }
   ],
   "source": [
    "predictions_series = pd.Series(data=predictions.flatten().tolist(), name=\"Prediction Linear Regression\")\n",
    "predictions_poly_series = pd.Series(data=predictions_poly.flatten().tolist(), name=\"Prediction Polynomial Regression\")\n",
    "predictions_lasso_series = pd.Series(data=predictions_lasso.flatten().tolist(), name=\"Prediction Lasso Regression\")\n",
    "predictions_lin_reg_tf_series = pd.Series(data=predictions_lin_reg_tf.flatten().tolist(), \n",
    "                                          name=\"Prediction Lasso Regression (TF)\")\n",
    "\n",
    "X_test_df = pd.DataFrame(data=X_test, columns=features)\n",
    "results_df = pd.concat([X_test_df, y_test.reset_index(), predictions_series, predictions_poly_series, \n",
    "                        predictions_lasso_series, predictions_lin_reg_tf_series], axis=1, ignore_index=False)\n",
    "\n",
    "display(results_df.head())\n",
    "\n",
    "results_df.to_csv(\"data/output/predictions.csv\", sep=\";\", index=False, float_format=\"%.0f\")"
   ]
  }
 ],
 "metadata": {
  "kernelspec": {
   "display_name": "Python 3",
   "language": "python",
   "name": "python3"
  },
  "language_info": {
   "codemirror_mode": {
    "name": "ipython",
    "version": 3
   },
   "file_extension": ".py",
   "mimetype": "text/x-python",
   "name": "python",
   "nbconvert_exporter": "python",
   "pygments_lexer": "ipython3",
   "version": "3.6.3"
  }
 },
 "nbformat": 4,
 "nbformat_minor": 2
}
