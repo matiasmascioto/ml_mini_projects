{
 "cells": [
  {
   "cell_type": "markdown",
   "metadata": {},
   "source": [
    "# Fifa 18 Value Prediction\n",
    "## Data Exploration and Cleaning"
   ]
  },
  {
   "cell_type": "code",
   "execution_count": 1,
   "metadata": {},
   "outputs": [],
   "source": [
    "# Imports\n",
    "import os\n",
    "import pandas as pd\n",
    "import re\n",
    "import seaborn as sns\n",
    "import numpy as np\n",
    "from IPython.display import display, HTML, Markdown as md\n",
    "from pandas.plotting import scatter_matrix\n",
    "import matplotlib.pyplot as plt\n",
    "from sklearn.preprocessing import MinMaxScaler\n",
    "\n",
    "# Config\n",
    "%matplotlib notebook\n",
    "pd.options.display.max_columns = None"
   ]
  },
  {
   "cell_type": "markdown",
   "metadata": {},
   "source": [
    "### Load the data\n",
    "Loads *.csv* file into *pandas DataFrame*"
   ]
  },
  {
   "cell_type": "code",
   "execution_count": 2,
   "metadata": {},
   "outputs": [
    {
     "name": "stderr",
     "output_type": "stream",
     "text": [
      "c:\\users\\matias\\miniconda3\\lib\\site-packages\\IPython\\core\\interactiveshell.py:3020: DtypeWarning: Columns (23,35) have mixed types. Specify dtype option on import or set low_memory=False.\n",
      "  interactivity=interactivity, compiler=compiler, result=result)\n"
     ]
    }
   ],
   "source": [
    "df = pd.read_csv(\"data/raw/CompleteDataset.csv\")"
   ]
  },
  {
   "cell_type": "markdown",
   "metadata": {},
   "source": [
    "### Explore the data\n",
    "First look at the data. "
   ]
  },
  {
   "cell_type": "code",
   "execution_count": 3,
   "metadata": {},
   "outputs": [
    {
     "data": {
      "text/markdown": [
       "**Initial** DataFrame's shape: (17981, 75)"
      ],
      "text/plain": [
       "<IPython.core.display.Markdown object>"
      ]
     },
     "metadata": {},
     "output_type": "display_data"
    },
    {
     "name": "stdout",
     "output_type": "stream",
     "text": [
      "<class 'pandas.core.frame.DataFrame'>\n",
      "RangeIndex: 17981 entries, 0 to 17980\n",
      "Data columns (total 75 columns):\n",
      "Unnamed: 0             17981 non-null int64\n",
      "Name                   17981 non-null object\n",
      "Age                    17981 non-null int64\n",
      "Photo                  17981 non-null object\n",
      "Nationality            17981 non-null object\n",
      "Flag                   17981 non-null object\n",
      "Overall                17981 non-null int64\n",
      "Potential              17981 non-null int64\n",
      "Club                   17733 non-null object\n",
      "Club Logo              17981 non-null object\n",
      "Value                  17981 non-null object\n",
      "Wage                   17981 non-null object\n",
      "Special                17981 non-null int64\n",
      "Acceleration           17981 non-null object\n",
      "Aggression             17981 non-null object\n",
      "Agility                17981 non-null object\n",
      "Balance                17981 non-null object\n",
      "Ball control           17981 non-null object\n",
      "Composure              17981 non-null object\n",
      "Crossing               17981 non-null object\n",
      "Curve                  17981 non-null object\n",
      "Dribbling              17981 non-null object\n",
      "Finishing              17981 non-null object\n",
      "Free kick accuracy     17981 non-null object\n",
      "GK diving              17981 non-null object\n",
      "GK handling            17981 non-null object\n",
      "GK kicking             17981 non-null object\n",
      "GK positioning         17981 non-null object\n",
      "GK reflexes            17981 non-null object\n",
      "Heading accuracy       17981 non-null object\n",
      "Interceptions          17981 non-null object\n",
      "Jumping                17981 non-null object\n",
      "Long passing           17981 non-null object\n",
      "Long shots             17981 non-null object\n",
      "Marking                17981 non-null object\n",
      "Penalties              17981 non-null object\n",
      "Positioning            17981 non-null object\n",
      "Reactions              17981 non-null object\n",
      "Short passing          17981 non-null object\n",
      "Shot power             17981 non-null object\n",
      "Sliding tackle         17981 non-null object\n",
      "Sprint speed           17981 non-null object\n",
      "Stamina                17981 non-null object\n",
      "Standing tackle        17981 non-null object\n",
      "Strength               17981 non-null object\n",
      "Vision                 17981 non-null object\n",
      "Volleys                17981 non-null object\n",
      "CAM                    15952 non-null float64\n",
      "CB                     15952 non-null float64\n",
      "CDM                    15952 non-null float64\n",
      "CF                     15952 non-null float64\n",
      "CM                     15952 non-null float64\n",
      "ID                     17981 non-null int64\n",
      "LAM                    15952 non-null float64\n",
      "LB                     15952 non-null float64\n",
      "LCB                    15952 non-null float64\n",
      "LCM                    15952 non-null float64\n",
      "LDM                    15952 non-null float64\n",
      "LF                     15952 non-null float64\n",
      "LM                     15952 non-null float64\n",
      "LS                     15952 non-null float64\n",
      "LW                     15952 non-null float64\n",
      "LWB                    15952 non-null float64\n",
      "Preferred Positions    17981 non-null object\n",
      "RAM                    15952 non-null float64\n",
      "RB                     15952 non-null float64\n",
      "RCB                    15952 non-null float64\n",
      "RCM                    15952 non-null float64\n",
      "RDM                    15952 non-null float64\n",
      "RF                     15952 non-null float64\n",
      "RM                     15952 non-null float64\n",
      "RS                     15952 non-null float64\n",
      "RW                     15952 non-null float64\n",
      "RWB                    15952 non-null float64\n",
      "ST                     15952 non-null float64\n",
      "dtypes: float64(26), int64(6), object(43)\n",
      "memory usage: 10.3+ MB\n"
     ]
    },
    {
     "data": {
      "text/plain": [
       "<IPython.core.display.Markdown object>"
      ]
     },
     "metadata": {},
     "output_type": "display_data"
    }
   ],
   "source": [
    "# Takes a look at the DataFrame's shape.\n",
    "display(md(\"**Initial** DataFrame's shape: {0}\".format(df.shape)))\n",
    "\n",
    "# Column's types and number of non-null values\n",
    "display(md(df.info()))"
   ]
  },
  {
   "cell_type": "markdown",
   "metadata": {},
   "source": [
    "### Data types\n",
    "We can see that there are many columns parsed as *object* that must be *int64* or *float64*. Let's look why this happens."
   ]
  },
  {
   "cell_type": "code",
   "execution_count": 4,
   "metadata": {},
   "outputs": [
    {
     "data": {
      "text/html": [
       "<div>\n",
       "<style scoped>\n",
       "    .dataframe tbody tr th:only-of-type {\n",
       "        vertical-align: middle;\n",
       "    }\n",
       "\n",
       "    .dataframe tbody tr th {\n",
       "        vertical-align: top;\n",
       "    }\n",
       "\n",
       "    .dataframe thead th {\n",
       "        text-align: right;\n",
       "    }\n",
       "</style>\n",
       "<table border=\"1\" class=\"dataframe\">\n",
       "  <thead>\n",
       "    <tr style=\"text-align: right;\">\n",
       "      <th></th>\n",
       "      <th>Wage</th>\n",
       "      <th>Value</th>\n",
       "    </tr>\n",
       "  </thead>\n",
       "  <tbody>\n",
       "    <tr>\n",
       "      <th>5614</th>\n",
       "      <td>€12K</td>\n",
       "      <td>€2.4M</td>\n",
       "    </tr>\n",
       "    <tr>\n",
       "      <th>11649</th>\n",
       "      <td>€1K</td>\n",
       "      <td>€475K</td>\n",
       "    </tr>\n",
       "    <tr>\n",
       "      <th>8145</th>\n",
       "      <td>€6K</td>\n",
       "      <td>€900K</td>\n",
       "    </tr>\n",
       "    <tr>\n",
       "      <th>866</th>\n",
       "      <td>€23K</td>\n",
       "      <td>€10M</td>\n",
       "    </tr>\n",
       "    <tr>\n",
       "      <th>15366</th>\n",
       "      <td>€4K</td>\n",
       "      <td>€200K</td>\n",
       "    </tr>\n",
       "  </tbody>\n",
       "</table>\n",
       "</div>"
      ],
      "text/plain": [
       "       Wage  Value\n",
       "5614   €12K  €2.4M\n",
       "11649   €1K  €475K\n",
       "8145    €6K  €900K\n",
       "866    €23K   €10M\n",
       "15366   €4K  €200K"
      ]
     },
     "metadata": {},
     "output_type": "display_data"
    },
    {
     "data": {
      "text/plain": [
       "'70+9 is not a number!'"
      ]
     },
     "metadata": {},
     "output_type": "display_data"
    }
   ],
   "source": [
    "# Let´s look why 'Wage' and 'Value' are not parsed as numbers\n",
    "display(df.loc[:, [\"Wage\", \"Value\"]].sample(5))\n",
    "\n",
    "# Many skill attributes (e.g. 'Acceleration') are also not parsed as numbers\n",
    "for index, acceleration in df[\"Acceleration\"].iteritems():\n",
    "    try:\n",
    "        val = int(acceleration)\n",
    "    except ValueError:\n",
    "        display(\"{0} is not a number!\".format(acceleration))\n",
    "        break"
   ]
  },
  {
   "cell_type": "code",
   "execution_count": 5,
   "metadata": {},
   "outputs": [
    {
     "name": "stdout",
     "output_type": "stream",
     "text": [
      "<class 'pandas.core.frame.DataFrame'>\n",
      "RangeIndex: 17981 entries, 0 to 17980\n",
      "Data columns (total 75 columns):\n",
      "Unnamed: 0             17981 non-null int64\n",
      "Name                   17981 non-null object\n",
      "Age                    17981 non-null int64\n",
      "Photo                  17981 non-null object\n",
      "Nationality            17981 non-null object\n",
      "Flag                   17981 non-null object\n",
      "Overall                17981 non-null int64\n",
      "Potential              17981 non-null int64\n",
      "Club                   17733 non-null object\n",
      "Club Logo              17981 non-null object\n",
      "Value                  17981 non-null float64\n",
      "Wage                   17981 non-null float64\n",
      "Special                17981 non-null int64\n",
      "Acceleration           17981 non-null float64\n",
      "Aggression             17981 non-null float64\n",
      "Agility                17981 non-null float64\n",
      "Balance                17981 non-null float64\n",
      "Ball control           17981 non-null float64\n",
      "Composure              17981 non-null float64\n",
      "Crossing               17981 non-null float64\n",
      "Curve                  17981 non-null float64\n",
      "Dribbling              17981 non-null float64\n",
      "Finishing              17981 non-null float64\n",
      "Free kick accuracy     16384 non-null float64\n",
      "GK diving              17981 non-null float64\n",
      "GK handling            17981 non-null float64\n",
      "GK kicking             17981 non-null float64\n",
      "GK positioning         17981 non-null float64\n",
      "GK reflexes            17981 non-null float64\n",
      "Heading accuracy       17981 non-null float64\n",
      "Interceptions          17981 non-null float64\n",
      "Jumping                17981 non-null float64\n",
      "Long passing           17981 non-null float64\n",
      "Long shots             17981 non-null float64\n",
      "Marking                17981 non-null float64\n",
      "Penalties              16384 non-null float64\n",
      "Positioning            17981 non-null float64\n",
      "Reactions              17981 non-null float64\n",
      "Short passing          17981 non-null float64\n",
      "Shot power             17981 non-null float64\n",
      "Sliding tackle         17981 non-null float64\n",
      "Sprint speed           17981 non-null float64\n",
      "Stamina                17981 non-null float64\n",
      "Standing tackle        17981 non-null float64\n",
      "Strength               17981 non-null float64\n",
      "Vision                 17981 non-null float64\n",
      "Volleys                17981 non-null float64\n",
      "CAM                    15952 non-null float64\n",
      "CB                     15952 non-null float64\n",
      "CDM                    15952 non-null float64\n",
      "CF                     15952 non-null float64\n",
      "CM                     15952 non-null float64\n",
      "ID                     17981 non-null int64\n",
      "LAM                    15952 non-null float64\n",
      "LB                     15952 non-null float64\n",
      "LCB                    15952 non-null float64\n",
      "LCM                    15952 non-null float64\n",
      "LDM                    15952 non-null float64\n",
      "LF                     15952 non-null float64\n",
      "LM                     15952 non-null float64\n",
      "LS                     15952 non-null float64\n",
      "LW                     15952 non-null float64\n",
      "LWB                    15952 non-null float64\n",
      "Preferred Positions    17981 non-null object\n",
      "RAM                    15952 non-null float64\n",
      "RB                     15952 non-null float64\n",
      "RCB                    15952 non-null float64\n",
      "RCM                    15952 non-null float64\n",
      "RDM                    15952 non-null float64\n",
      "RF                     15952 non-null float64\n",
      "RM                     15952 non-null float64\n",
      "RS                     15952 non-null float64\n",
      "RW                     15952 non-null float64\n",
      "RWB                    15952 non-null float64\n",
      "ST                     15952 non-null float64\n",
      "dtypes: float64(62), int64(6), object(7)\n",
      "memory usage: 10.3+ MB\n"
     ]
    },
    {
     "data": {
      "text/plain": [
       "None"
      ]
     },
     "metadata": {},
     "output_type": "display_data"
    }
   ],
   "source": [
    "def get_number(s):\n",
    "    \"\"\" Returns 's' as a number in € \"\"\"\n",
    "    scale = 1\n",
    "    if re.search(\"K\", s) is not None: # Thousand symbol\n",
    "        scale = 1000\n",
    "    elif re.search(\"M\", s) is not None: # Million symbol\n",
    "        scale = 1000000\n",
    "    \n",
    "    return float(re.search(\"[0-9]+\\.?[0-9]*\", s).group(0)) * scale\n",
    "\n",
    "df[\"Wage\"] = df[\"Wage\"].map(get_number).astype(\"float64\")\n",
    "df[\"Value\"] = df[\"Value\"].map(get_number).astype(\"float64\")\n",
    "\n",
    "# Many columns are not parsed as 'int64' because of a '+' or '-' sign indicating the change the attribute has seen from the \n",
    "# last iteration.\n",
    "for col in df.select_dtypes(include='object').columns:\n",
    "    if df[col].str.contains(\"[0-9]+[\\+|-][0-9]+\", regex=True).any():\n",
    "        df.loc[:, col] = df[col].str.replace(\"(?![0-9]+)[\\+|-][0-9]+\", \"\")\n",
    "        \n",
    "        df[col] = df[col].astype('float')\n",
    "        \n",
    "display(df.info())"
   ]
  },
  {
   "cell_type": "markdown",
   "metadata": {},
   "source": [
    "### Missing values\n",
    "There are many features with 15952 non-null values. That's because **goalkeepers** don't have the positional features."
   ]
  },
  {
   "cell_type": "code",
   "execution_count": 6,
   "metadata": {
    "scrolled": true
   },
   "outputs": [
    {
     "data": {
      "text/plain": [
       "\"Goalkeepers subset's shape: (2029, 75)\""
      ]
     },
     "metadata": {},
     "output_type": "display_data"
    },
    {
     "name": "stdout",
     "output_type": "stream",
     "text": [
      "<class 'pandas.core.frame.DataFrame'>\n",
      "Int64Index: 2029 entries, 4 to 17977\n",
      "Data columns (total 75 columns):\n",
      "Unnamed: 0             2029 non-null int64\n",
      "Name                   2029 non-null object\n",
      "Age                    2029 non-null int64\n",
      "Photo                  2029 non-null object\n",
      "Nationality            2029 non-null object\n",
      "Flag                   2029 non-null object\n",
      "Overall                2029 non-null int64\n",
      "Potential              2029 non-null int64\n",
      "Club                   1987 non-null object\n",
      "Club Logo              2029 non-null object\n",
      "Value                  2029 non-null float64\n",
      "Wage                   2029 non-null float64\n",
      "Special                2029 non-null int64\n",
      "Acceleration           2029 non-null float64\n",
      "Aggression             2029 non-null float64\n",
      "Agility                2029 non-null float64\n",
      "Balance                2029 non-null float64\n",
      "Ball control           2029 non-null float64\n",
      "Composure              2029 non-null float64\n",
      "Crossing               2029 non-null float64\n",
      "Curve                  2029 non-null float64\n",
      "Dribbling              2029 non-null float64\n",
      "Finishing              2029 non-null float64\n",
      "Free kick accuracy     1712 non-null float64\n",
      "GK diving              2029 non-null float64\n",
      "GK handling            2029 non-null float64\n",
      "GK kicking             2029 non-null float64\n",
      "GK positioning         2029 non-null float64\n",
      "GK reflexes            2029 non-null float64\n",
      "Heading accuracy       2029 non-null float64\n",
      "Interceptions          2029 non-null float64\n",
      "Jumping                2029 non-null float64\n",
      "Long passing           2029 non-null float64\n",
      "Long shots             2029 non-null float64\n",
      "Marking                2029 non-null float64\n",
      "Penalties              1712 non-null float64\n",
      "Positioning            2029 non-null float64\n",
      "Reactions              2029 non-null float64\n",
      "Short passing          2029 non-null float64\n",
      "Shot power             2029 non-null float64\n",
      "Sliding tackle         2029 non-null float64\n",
      "Sprint speed           2029 non-null float64\n",
      "Stamina                2029 non-null float64\n",
      "Standing tackle        2029 non-null float64\n",
      "Strength               2029 non-null float64\n",
      "Vision                 2029 non-null float64\n",
      "Volleys                2029 non-null float64\n",
      "CAM                    0 non-null float64\n",
      "CB                     0 non-null float64\n",
      "CDM                    0 non-null float64\n",
      "CF                     0 non-null float64\n",
      "CM                     0 non-null float64\n",
      "ID                     2029 non-null int64\n",
      "LAM                    0 non-null float64\n",
      "LB                     0 non-null float64\n",
      "LCB                    0 non-null float64\n",
      "LCM                    0 non-null float64\n",
      "LDM                    0 non-null float64\n",
      "LF                     0 non-null float64\n",
      "LM                     0 non-null float64\n",
      "LS                     0 non-null float64\n",
      "LW                     0 non-null float64\n",
      "LWB                    0 non-null float64\n",
      "Preferred Positions    2029 non-null object\n",
      "RAM                    0 non-null float64\n",
      "RB                     0 non-null float64\n",
      "RCB                    0 non-null float64\n",
      "RCM                    0 non-null float64\n",
      "RDM                    0 non-null float64\n",
      "RF                     0 non-null float64\n",
      "RM                     0 non-null float64\n",
      "RS                     0 non-null float64\n",
      "RW                     0 non-null float64\n",
      "RWB                    0 non-null float64\n",
      "ST                     0 non-null float64\n",
      "dtypes: float64(62), int64(6), object(7)\n",
      "memory usage: 1.2+ MB\n"
     ]
    },
    {
     "data": {
      "text/plain": [
       "None"
      ]
     },
     "metadata": {},
     "output_type": "display_data"
    }
   ],
   "source": [
    "# Checks goalkeepers values\n",
    "df_gk = df.loc[df[\"Preferred Positions\"] == \"GK \", :]\n",
    "\n",
    "display(\"Goalkeepers subset's shape: {0}\".format(df_gk.shape))\n",
    "\n",
    "display(df_gk.info())"
   ]
  },
  {
   "cell_type": "code",
   "execution_count": 7,
   "metadata": {},
   "outputs": [
    {
     "name": "stdout",
     "output_type": "stream",
     "text": [
      "<class 'pandas.core.frame.DataFrame'>\n",
      "RangeIndex: 17981 entries, 0 to 17980\n",
      "Data columns (total 75 columns):\n",
      "Unnamed: 0             17981 non-null int64\n",
      "Name                   17981 non-null object\n",
      "Age                    17981 non-null int64\n",
      "Photo                  17981 non-null object\n",
      "Nationality            17981 non-null object\n",
      "Flag                   17981 non-null object\n",
      "Overall                17981 non-null int64\n",
      "Potential              17981 non-null int64\n",
      "Club                   17733 non-null object\n",
      "Club Logo              17981 non-null object\n",
      "Value                  17981 non-null float64\n",
      "Wage                   17981 non-null float64\n",
      "Special                17981 non-null int64\n",
      "Acceleration           17981 non-null float64\n",
      "Aggression             17981 non-null float64\n",
      "Agility                17981 non-null float64\n",
      "Balance                17981 non-null float64\n",
      "Ball control           17981 non-null float64\n",
      "Composure              17981 non-null float64\n",
      "Crossing               17981 non-null float64\n",
      "Curve                  17981 non-null float64\n",
      "Dribbling              17981 non-null float64\n",
      "Finishing              17981 non-null float64\n",
      "Free kick accuracy     17981 non-null float64\n",
      "GK diving              17981 non-null float64\n",
      "GK handling            17981 non-null float64\n",
      "GK kicking             17981 non-null float64\n",
      "GK positioning         17981 non-null float64\n",
      "GK reflexes            17981 non-null float64\n",
      "Heading accuracy       17981 non-null float64\n",
      "Interceptions          17981 non-null float64\n",
      "Jumping                17981 non-null float64\n",
      "Long passing           17981 non-null float64\n",
      "Long shots             17981 non-null float64\n",
      "Marking                17981 non-null float64\n",
      "Penalties              17981 non-null float64\n",
      "Positioning            17981 non-null float64\n",
      "Reactions              17981 non-null float64\n",
      "Short passing          17981 non-null float64\n",
      "Shot power             17981 non-null float64\n",
      "Sliding tackle         17981 non-null float64\n",
      "Sprint speed           17981 non-null float64\n",
      "Stamina                17981 non-null float64\n",
      "Standing tackle        17981 non-null float64\n",
      "Strength               17981 non-null float64\n",
      "Vision                 17981 non-null float64\n",
      "Volleys                17981 non-null float64\n",
      "CAM                    15952 non-null float64\n",
      "CB                     15952 non-null float64\n",
      "CDM                    15952 non-null float64\n",
      "CF                     15952 non-null float64\n",
      "CM                     15952 non-null float64\n",
      "ID                     17981 non-null int64\n",
      "LAM                    15952 non-null float64\n",
      "LB                     15952 non-null float64\n",
      "LCB                    15952 non-null float64\n",
      "LCM                    15952 non-null float64\n",
      "LDM                    15952 non-null float64\n",
      "LF                     15952 non-null float64\n",
      "LM                     15952 non-null float64\n",
      "LS                     15952 non-null float64\n",
      "LW                     15952 non-null float64\n",
      "LWB                    15952 non-null float64\n",
      "Preferred Positions    17981 non-null object\n",
      "RAM                    15952 non-null float64\n",
      "RB                     15952 non-null float64\n",
      "RCB                    15952 non-null float64\n",
      "RCM                    15952 non-null float64\n",
      "RDM                    15952 non-null float64\n",
      "RF                     15952 non-null float64\n",
      "RM                     15952 non-null float64\n",
      "RS                     15952 non-null float64\n",
      "RW                     15952 non-null float64\n",
      "RWB                    15952 non-null float64\n",
      "ST                     15952 non-null float64\n",
      "dtypes: float64(62), int64(6), object(7)\n",
      "memory usage: 10.3+ MB\n"
     ]
    },
    {
     "data": {
      "text/plain": [
       "None"
      ]
     },
     "metadata": {},
     "output_type": "display_data"
    }
   ],
   "source": [
    "# Fill 'Free kick accuracy' and 'Penalties' null values with the goalkeepers mean\n",
    "free_kick_accuracy_gk_mean = int(df_gk[\"Free kick accuracy\"].mean())\n",
    "penalties_gk_mean = int(df_gk[\"Penalties\"].mean())\n",
    "\n",
    "df[\"Free kick accuracy\"].fillna(free_kick_accuracy_gk_mean, inplace=True)\n",
    "df[\"Free kick accuracy\"].astype(\"float64\")\n",
    "df[\"Penalties\"].fillna(penalties_gk_mean, inplace=True)\n",
    "df[\"Penalties\"].astype(\"float64\")\n",
    "\n",
    "display(df.info())"
   ]
  },
  {
   "cell_type": "code",
   "execution_count": 8,
   "metadata": {},
   "outputs": [
    {
     "data": {
      "text/html": [
       "<div>\n",
       "<style scoped>\n",
       "    .dataframe tbody tr th:only-of-type {\n",
       "        vertical-align: middle;\n",
       "    }\n",
       "\n",
       "    .dataframe tbody tr th {\n",
       "        vertical-align: top;\n",
       "    }\n",
       "\n",
       "    .dataframe thead th {\n",
       "        text-align: right;\n",
       "    }\n",
       "</style>\n",
       "<table border=\"1\" class=\"dataframe\">\n",
       "  <thead>\n",
       "    <tr style=\"text-align: right;\">\n",
       "      <th></th>\n",
       "      <th>Unnamed: 0</th>\n",
       "      <th>Name</th>\n",
       "      <th>Age</th>\n",
       "      <th>Photo</th>\n",
       "      <th>Nationality</th>\n",
       "      <th>Flag</th>\n",
       "      <th>Overall</th>\n",
       "      <th>Potential</th>\n",
       "      <th>Club</th>\n",
       "      <th>Club Logo</th>\n",
       "      <th>Value</th>\n",
       "      <th>Wage</th>\n",
       "      <th>Special</th>\n",
       "      <th>Acceleration</th>\n",
       "      <th>Aggression</th>\n",
       "      <th>Agility</th>\n",
       "      <th>Balance</th>\n",
       "      <th>Ball control</th>\n",
       "      <th>Composure</th>\n",
       "      <th>Crossing</th>\n",
       "      <th>Curve</th>\n",
       "      <th>Dribbling</th>\n",
       "      <th>Finishing</th>\n",
       "      <th>Free kick accuracy</th>\n",
       "      <th>GK diving</th>\n",
       "      <th>GK handling</th>\n",
       "      <th>GK kicking</th>\n",
       "      <th>GK positioning</th>\n",
       "      <th>GK reflexes</th>\n",
       "      <th>Heading accuracy</th>\n",
       "      <th>Interceptions</th>\n",
       "      <th>Jumping</th>\n",
       "      <th>Long passing</th>\n",
       "      <th>Long shots</th>\n",
       "      <th>Marking</th>\n",
       "      <th>Penalties</th>\n",
       "      <th>Positioning</th>\n",
       "      <th>Reactions</th>\n",
       "      <th>Short passing</th>\n",
       "      <th>Shot power</th>\n",
       "      <th>Sliding tackle</th>\n",
       "      <th>Sprint speed</th>\n",
       "      <th>Stamina</th>\n",
       "      <th>Standing tackle</th>\n",
       "      <th>Strength</th>\n",
       "      <th>Vision</th>\n",
       "      <th>Volleys</th>\n",
       "      <th>CAM</th>\n",
       "      <th>CB</th>\n",
       "      <th>CDM</th>\n",
       "      <th>CF</th>\n",
       "      <th>CM</th>\n",
       "      <th>ID</th>\n",
       "      <th>LAM</th>\n",
       "      <th>LB</th>\n",
       "      <th>LCB</th>\n",
       "      <th>LCM</th>\n",
       "      <th>LDM</th>\n",
       "      <th>LF</th>\n",
       "      <th>LM</th>\n",
       "      <th>LS</th>\n",
       "      <th>LW</th>\n",
       "      <th>LWB</th>\n",
       "      <th>Preferred Positions</th>\n",
       "      <th>RAM</th>\n",
       "      <th>RB</th>\n",
       "      <th>RCB</th>\n",
       "      <th>RCM</th>\n",
       "      <th>RDM</th>\n",
       "      <th>RF</th>\n",
       "      <th>RM</th>\n",
       "      <th>RS</th>\n",
       "      <th>RW</th>\n",
       "      <th>RWB</th>\n",
       "      <th>ST</th>\n",
       "    </tr>\n",
       "  </thead>\n",
       "  <tbody>\n",
       "    <tr>\n",
       "      <th>1</th>\n",
       "      <td>1</td>\n",
       "      <td>L. Messi</td>\n",
       "      <td>30</td>\n",
       "      <td>https://cdn.sofifa.org/48/18/players/158023.png</td>\n",
       "      <td>Argentina</td>\n",
       "      <td>https://cdn.sofifa.org/flags/52.png</td>\n",
       "      <td>93</td>\n",
       "      <td>93</td>\n",
       "      <td>FC Barcelona</td>\n",
       "      <td>https://cdn.sofifa.org/24/18/teams/241.png</td>\n",
       "      <td>105000000.0</td>\n",
       "      <td>565000.0</td>\n",
       "      <td>2154</td>\n",
       "      <td>92.0</td>\n",
       "      <td>48.0</td>\n",
       "      <td>90.0</td>\n",
       "      <td>95.0</td>\n",
       "      <td>95.0</td>\n",
       "      <td>96.0</td>\n",
       "      <td>77.0</td>\n",
       "      <td>89.0</td>\n",
       "      <td>97.0</td>\n",
       "      <td>95.0</td>\n",
       "      <td>90.0</td>\n",
       "      <td>6.0</td>\n",
       "      <td>11.0</td>\n",
       "      <td>15.0</td>\n",
       "      <td>14.0</td>\n",
       "      <td>8.0</td>\n",
       "      <td>71.0</td>\n",
       "      <td>22.0</td>\n",
       "      <td>68.0</td>\n",
       "      <td>87.0</td>\n",
       "      <td>88.0</td>\n",
       "      <td>13.0</td>\n",
       "      <td>74.0</td>\n",
       "      <td>93.0</td>\n",
       "      <td>95.0</td>\n",
       "      <td>88.0</td>\n",
       "      <td>85.0</td>\n",
       "      <td>26.0</td>\n",
       "      <td>87.0</td>\n",
       "      <td>73.0</td>\n",
       "      <td>28.0</td>\n",
       "      <td>59.0</td>\n",
       "      <td>90.0</td>\n",
       "      <td>85.0</td>\n",
       "      <td>92.0</td>\n",
       "      <td>45.0</td>\n",
       "      <td>59.0</td>\n",
       "      <td>92.0</td>\n",
       "      <td>84.0</td>\n",
       "      <td>158023</td>\n",
       "      <td>92.0</td>\n",
       "      <td>57.0</td>\n",
       "      <td>45.0</td>\n",
       "      <td>84.0</td>\n",
       "      <td>59.0</td>\n",
       "      <td>92.0</td>\n",
       "      <td>90.0</td>\n",
       "      <td>88.0</td>\n",
       "      <td>91.0</td>\n",
       "      <td>62.0</td>\n",
       "      <td>RW</td>\n",
       "      <td>92.0</td>\n",
       "      <td>57.0</td>\n",
       "      <td>45.0</td>\n",
       "      <td>84.0</td>\n",
       "      <td>59.0</td>\n",
       "      <td>92.0</td>\n",
       "      <td>90.0</td>\n",
       "      <td>88.0</td>\n",
       "      <td>91.0</td>\n",
       "      <td>62.0</td>\n",
       "      <td>88.0</td>\n",
       "    </tr>\n",
       "    <tr>\n",
       "      <th>18</th>\n",
       "      <td>18</td>\n",
       "      <td>G. Buffon</td>\n",
       "      <td>39</td>\n",
       "      <td>https://cdn.sofifa.org/48/18/players/1179.png</td>\n",
       "      <td>Italy</td>\n",
       "      <td>https://cdn.sofifa.org/flags/27.png</td>\n",
       "      <td>89</td>\n",
       "      <td>89</td>\n",
       "      <td>Juventus</td>\n",
       "      <td>https://cdn.sofifa.org/24/18/teams/45.png</td>\n",
       "      <td>4500000.0</td>\n",
       "      <td>110000.0</td>\n",
       "      <td>1335</td>\n",
       "      <td>49.0</td>\n",
       "      <td>38.0</td>\n",
       "      <td>55.0</td>\n",
       "      <td>49.0</td>\n",
       "      <td>28.0</td>\n",
       "      <td>70.0</td>\n",
       "      <td>13.0</td>\n",
       "      <td>20.0</td>\n",
       "      <td>26.0</td>\n",
       "      <td>15.0</td>\n",
       "      <td>13.0</td>\n",
       "      <td>89.0</td>\n",
       "      <td>88.0</td>\n",
       "      <td>74.0</td>\n",
       "      <td>90.0</td>\n",
       "      <td>84.0</td>\n",
       "      <td>13.0</td>\n",
       "      <td>28.0</td>\n",
       "      <td>75.0</td>\n",
       "      <td>35.0</td>\n",
       "      <td>13.0</td>\n",
       "      <td>10.0</td>\n",
       "      <td>22.0</td>\n",
       "      <td>12.0</td>\n",
       "      <td>80.0</td>\n",
       "      <td>37.0</td>\n",
       "      <td>39.0</td>\n",
       "      <td>11.0</td>\n",
       "      <td>43.0</td>\n",
       "      <td>39.0</td>\n",
       "      <td>11.0</td>\n",
       "      <td>69.0</td>\n",
       "      <td>50.0</td>\n",
       "      <td>17.0</td>\n",
       "      <td>NaN</td>\n",
       "      <td>NaN</td>\n",
       "      <td>NaN</td>\n",
       "      <td>NaN</td>\n",
       "      <td>NaN</td>\n",
       "      <td>1179</td>\n",
       "      <td>NaN</td>\n",
       "      <td>NaN</td>\n",
       "      <td>NaN</td>\n",
       "      <td>NaN</td>\n",
       "      <td>NaN</td>\n",
       "      <td>NaN</td>\n",
       "      <td>NaN</td>\n",
       "      <td>NaN</td>\n",
       "      <td>NaN</td>\n",
       "      <td>NaN</td>\n",
       "      <td>GK</td>\n",
       "      <td>NaN</td>\n",
       "      <td>NaN</td>\n",
       "      <td>NaN</td>\n",
       "      <td>NaN</td>\n",
       "      <td>NaN</td>\n",
       "      <td>NaN</td>\n",
       "      <td>NaN</td>\n",
       "      <td>NaN</td>\n",
       "      <td>NaN</td>\n",
       "      <td>NaN</td>\n",
       "      <td>NaN</td>\n",
       "    </tr>\n",
       "  </tbody>\n",
       "</table>\n",
       "</div>"
      ],
      "text/plain": [
       "    Unnamed: 0       Name  Age  \\\n",
       "1            1   L. Messi   30   \n",
       "18          18  G. Buffon   39   \n",
       "\n",
       "                                              Photo Nationality  \\\n",
       "1   https://cdn.sofifa.org/48/18/players/158023.png   Argentina   \n",
       "18    https://cdn.sofifa.org/48/18/players/1179.png       Italy   \n",
       "\n",
       "                                   Flag  Overall  Potential          Club  \\\n",
       "1   https://cdn.sofifa.org/flags/52.png       93         93  FC Barcelona   \n",
       "18  https://cdn.sofifa.org/flags/27.png       89         89      Juventus   \n",
       "\n",
       "                                     Club Logo        Value      Wage  \\\n",
       "1   https://cdn.sofifa.org/24/18/teams/241.png  105000000.0  565000.0   \n",
       "18   https://cdn.sofifa.org/24/18/teams/45.png    4500000.0  110000.0   \n",
       "\n",
       "    Special  Acceleration  Aggression  Agility  Balance  Ball control  \\\n",
       "1      2154          92.0        48.0     90.0     95.0          95.0   \n",
       "18     1335          49.0        38.0     55.0     49.0          28.0   \n",
       "\n",
       "    Composure  Crossing  Curve  Dribbling  Finishing  Free kick accuracy  \\\n",
       "1        96.0      77.0   89.0       97.0       95.0                90.0   \n",
       "18       70.0      13.0   20.0       26.0       15.0                13.0   \n",
       "\n",
       "    GK diving  GK handling  GK kicking  GK positioning  GK reflexes  \\\n",
       "1         6.0         11.0        15.0            14.0          8.0   \n",
       "18       89.0         88.0        74.0            90.0         84.0   \n",
       "\n",
       "    Heading accuracy  Interceptions  Jumping  Long passing  Long shots  \\\n",
       "1               71.0           22.0     68.0          87.0        88.0   \n",
       "18              13.0           28.0     75.0          35.0        13.0   \n",
       "\n",
       "    Marking  Penalties  Positioning  Reactions  Short passing  Shot power  \\\n",
       "1      13.0       74.0         93.0       95.0           88.0        85.0   \n",
       "18     10.0       22.0         12.0       80.0           37.0        39.0   \n",
       "\n",
       "    Sliding tackle  Sprint speed  Stamina  Standing tackle  Strength  Vision  \\\n",
       "1             26.0          87.0     73.0             28.0      59.0    90.0   \n",
       "18            11.0          43.0     39.0             11.0      69.0    50.0   \n",
       "\n",
       "    Volleys   CAM    CB   CDM    CF    CM      ID   LAM    LB   LCB   LCM  \\\n",
       "1      85.0  92.0  45.0  59.0  92.0  84.0  158023  92.0  57.0  45.0  84.0   \n",
       "18     17.0   NaN   NaN   NaN   NaN   NaN    1179   NaN   NaN   NaN   NaN   \n",
       "\n",
       "     LDM    LF    LM    LS    LW   LWB Preferred Positions   RAM    RB   RCB  \\\n",
       "1   59.0  92.0  90.0  88.0  91.0  62.0                 RW   92.0  57.0  45.0   \n",
       "18   NaN   NaN   NaN   NaN   NaN   NaN                 GK    NaN   NaN   NaN   \n",
       "\n",
       "     RCM   RDM    RF    RM    RS    RW   RWB    ST  \n",
       "1   84.0  59.0  92.0  90.0  88.0  91.0  62.0  88.0  \n",
       "18   NaN   NaN   NaN   NaN   NaN   NaN   NaN   NaN  "
      ]
     },
     "metadata": {},
     "output_type": "display_data"
    }
   ],
   "source": [
    "# Lionel Messi and Gianluigi Buffon example\n",
    "lionel_messi_filter = df[\"Name\"].str.contains(\"L. Messi\") | df[\"Name\"].str.contains(\"G. Buffon\")\n",
    "display(df.loc[lionel_messi_filter, :])"
   ]
  },
  {
   "cell_type": "markdown",
   "metadata": {},
   "source": [
    "### Feature selection"
   ]
  },
  {
   "cell_type": "code",
   "execution_count": 9,
   "metadata": {},
   "outputs": [
    {
     "data": {
      "text/markdown": [
       "Unused columns: ['Unnamed: 0', 'Photo', 'Flag', 'Club Logo', 'Club', 'Nationality']"
      ],
      "text/plain": [
       "<IPython.core.display.Markdown object>"
      ]
     },
     "metadata": {},
     "output_type": "display_data"
    },
    {
     "data": {
      "text/markdown": [
       "**Actual** DataFrame's shape: (17981, 69)"
      ],
      "text/plain": [
       "<IPython.core.display.Markdown object>"
      ]
     },
     "metadata": {},
     "output_type": "display_data"
    }
   ],
   "source": [
    "# We are not interested in the images features, Club and Nationality\n",
    "drop_columns = [\"Unnamed: 0\", \"Photo\", \"Flag\", \"Club Logo\", \"Club\", \"Nationality\"]\n",
    "df.drop(labels=drop_columns, axis=\"columns\", inplace=True)\n",
    "\n",
    "display(md(\"Unused columns: {0}\".format(drop_columns)))\n",
    "display(md(\"**Actual** DataFrame's shape: {0}\".format(df.shape)))"
   ]
  },
  {
   "cell_type": "markdown",
   "metadata": {},
   "source": [
    "### Categorical features\n",
    "*Preferred Positions* is categorical.\n",
    "\n",
    "Most Machine Learning algorithms prefer to work with numbers, so let's convert this text label to numbers."
   ]
  },
  {
   "cell_type": "code",
   "execution_count": 10,
   "metadata": {},
   "outputs": [
    {
     "data": {
      "text/markdown": [
       "*Preferred Positions* has 802 unique values"
      ],
      "text/plain": [
       "<IPython.core.display.Markdown object>"
      ]
     },
     "metadata": {},
     "output_type": "display_data"
    }
   ],
   "source": [
    "display(md(\"*Preferred Positions* has {0} unique values\".format(len(df[\"Preferred Positions\"].unique()))))\n",
    "\n",
    "# So, let's save only one preferred positions per player\n",
    "df[\"Preferred Position\"] = df[\"Preferred Positions\"].apply(lambda x: re.search(\"(\\w+)\\s\", x).group(1))\n",
    "\n",
    "df = pd.get_dummies(df, columns=[\"Preferred Position\"])\n",
    "df.drop(labels=[\"Preferred Positions\"], axis=\"columns\", inplace=True)"
   ]
  },
  {
   "cell_type": "markdown",
   "metadata": {},
   "source": [
    "### Correlations\n",
    "Let's analyze the correlations between the features."
   ]
  },
  {
   "cell_type": "code",
   "execution_count": 11,
   "metadata": {},
   "outputs": [
    {
     "data": {
      "text/plain": [
       "<matplotlib.axes._subplots.AxesSubplot at 0x26d75e9b6a0>"
      ]
     },
     "execution_count": 11,
     "metadata": {},
     "output_type": "execute_result"
    },
    {
     "data": {
      "image/png": "[encoded data removed]",
      "text/plain": [
       "<Figure size 648x648 with 2 Axes>"
      ]
     },
     "metadata": {
      "needs_background": "light"
     },
     "output_type": "display_data"
    }
   ],
   "source": [
    "# Correlation matrix\n",
    "corr_matrix = df.corr()\n",
    "\n",
    "# Generate a mask for the upper triangle\n",
    "mask = np.zeros_like(corr_matrix, dtype=np.bool)\n",
    "mask[np.triu_indices_from(mask)] = True\n",
    "\n",
    "# Set up the matplotlib figure\n",
    "f, ax = plt.subplots(figsize=(9,9))\n",
    "\n",
    "# Generate a custom diverging colormap\n",
    "cmap = sns.diverging_palette(220, 10, as_cmap=True)\n",
    "\n",
    "# Draw the heatmap with the mask and correct aspect ratio\n",
    "sns.heatmap(corr_matrix, mask=mask, cmap=cmap, vmax=1, center=0, square=True, linewidths=.5, cbar_kws={\"shrink\": .5})"
   ]
  },
  {
   "cell_type": "code",
   "execution_count": 12,
   "metadata": {},
   "outputs": [
    {
     "data": {
      "text/markdown": [
       "As expected, *Wage, Overall and Potential* are strongly correlated with *Value*"
      ],
      "text/plain": [
       "<IPython.core.display.Markdown object>"
      ]
     },
     "metadata": {},
     "output_type": "display_data"
    },
    {
     "data": {
      "text/plain": [
       "Value        1.000000\n",
       "Wage         0.850510\n",
       "Overall      0.626001\n",
       "Potential    0.588074\n",
       "Reactions    0.531255\n",
       "Name: Value, dtype: float64"
      ]
     },
     "metadata": {},
     "output_type": "display_data"
    },
    {
     "data": {
      "text/plain": [
       "GK kicking              -0.034230\n",
       "Preferred Position_RB   -0.034807\n",
       "Preferred Position_LB   -0.039978\n",
       "Preferred Position_GK   -0.054119\n",
       "ID                      -0.140623\n",
       "Name: Value, dtype: float64"
      ]
     },
     "metadata": {},
     "output_type": "display_data"
    }
   ],
   "source": [
    "# Let's take a look at the correlations with our target variable\n",
    "corr_value = corr_matrix[\"Value\"].sort_values(ascending=False)\n",
    "\n",
    "display(md(\"As expected, *Wage, Overall and Potential* are strongly correlated with *Value*\"))\n",
    "display(corr_value[0:5])\n",
    "display(corr_value[-5:])"
   ]
  },
  {
   "cell_type": "code",
   "execution_count": 13,
   "metadata": {},
   "outputs": [
    {
     "data": {
      "text/plain": [
       "array([[<matplotlib.axes._subplots.AxesSubplot object at 0x0000026D75B78668>,\n",
       "        <matplotlib.axes._subplots.AxesSubplot object at 0x0000026D75B98A20>,\n",
       "        <matplotlib.axes._subplots.AxesSubplot object at 0x0000026D75951F60>,\n",
       "        <matplotlib.axes._subplots.AxesSubplot object at 0x0000026D75983518>],\n",
       "       [<matplotlib.axes._subplots.AxesSubplot object at 0x0000026D759A9A90>,\n",
       "        <matplotlib.axes._subplots.AxesSubplot object at 0x0000026D759DA048>,\n",
       "        <matplotlib.axes._subplots.AxesSubplot object at 0x0000026D75A005C0>,\n",
       "        <matplotlib.axes._subplots.AxesSubplot object at 0x0000026D75A28B70>],\n",
       "       [<matplotlib.axes._subplots.AxesSubplot object at 0x0000026D75A28BA8>,\n",
       "        <matplotlib.axes._subplots.AxesSubplot object at 0x0000026D75A81668>,\n",
       "        <matplotlib.axes._subplots.AxesSubplot object at 0x0000026D75AA9BE0>,\n",
       "        <matplotlib.axes._subplots.AxesSubplot object at 0x0000026D75BC9198>],\n",
       "       [<matplotlib.axes._subplots.AxesSubplot object at 0x0000026D75BF1710>,\n",
       "        <matplotlib.axes._subplots.AxesSubplot object at 0x0000026D75C17C88>,\n",
       "        <matplotlib.axes._subplots.AxesSubplot object at 0x0000026D78947240>,\n",
       "        <matplotlib.axes._subplots.AxesSubplot object at 0x0000026D7896E7B8>]],\n",
       "      dtype=object)"
      ]
     },
     "execution_count": 13,
     "metadata": {},
     "output_type": "execute_result"
    },
    {
     "data": {
      "image/png": "[encoded data removed]",
      "text/plain": [
       "<Figure size 576x576 with 16 Axes>"
      ]
     },
     "metadata": {
      "needs_background": "light"
     },
     "output_type": "display_data"
    }
   ],
   "source": [
    "attributes = [\"Wage\", \"Value\", \"Overall\", \"Potential\"]\n",
    "\n",
    "scatter_matrix(df[attributes], figsize=(8,8))"
   ]
  },
  {
   "cell_type": "code",
   "execution_count": 14,
   "metadata": {},
   "outputs": [
    {
     "data": {
      "text/plain": [
       "[]"
      ]
     },
     "execution_count": 14,
     "metadata": {},
     "output_type": "execute_result"
    },
    {
     "data": {
      "image/png": "[encoded data removed]",
      "text/plain": [
       "<Figure size 576x576 with 2 Axes>"
      ]
     },
     "metadata": {
      "needs_background": "light"
     },
     "output_type": "display_data"
    }
   ],
   "source": [
    "# More detailed 'Value' and 'Wage' histograms\n",
    "\n",
    "fig, axes = plt.subplots(nrows=2, ncols=1, figsize=(8, 8))\n",
    "\n",
    "axes[0].title.set_text(\"Value Histogram\")\n",
    "axes[1].title.set_text(\"Wage Histogram\")\n",
    "df[\"Value\"].hist(ax=axes[0])\n",
    "df[\"Wage\"].hist(ax=axes[1])\n",
    "\n",
    "plt.plot()"
   ]
  },
  {
   "cell_type": "markdown",
   "metadata": {},
   "source": [
    "### Feature Scaling\n",
    "Machine Learning algorithms don't perform well when the input numerical attributes have very differnt scales."
   ]
  },
  {
   "cell_type": "code",
   "execution_count": 15,
   "metadata": {},
   "outputs": [
    {
     "name": "stderr",
     "output_type": "stream",
     "text": [
      "c:\\users\\matias\\miniconda3\\lib\\site-packages\\sklearn\\preprocessing\\data.py:323: DataConversionWarning: Data with input dtype uint8, int64, float64 were all converted to float64 by MinMaxScaler.\n",
      "  return self.partial_fit(X, y)\n"
     ]
    }
   ],
   "source": [
    "columns_to_scale = [c for c in df.columns.values if c not in [\"Name\", \"Value\"]]\n",
    "\n",
    "scaler = MinMaxScaler()\n",
    "\n",
    "df[columns_to_scale] = scaler.fit_transform(df[columns_to_scale])"
   ]
  },
  {
   "cell_type": "markdown",
   "metadata": {},
   "source": [
    "### Export the data\n",
    "Exports the dataset cleaned"
   ]
  },
  {
   "cell_type": "code",
   "execution_count": 16,
   "metadata": {},
   "outputs": [],
   "source": [
    "df.to_csv(\"data/processed/CompleteDataset_cleaned.csv\", index=False, sep=\";\")"
   ]
  }
 ],
 "metadata": {
  "kernelspec": {
   "display_name": "Python 3",
   "language": "python",
   "name": "python3"
  },
  "language_info": {
   "codemirror_mode": {
    "name": "ipython",
    "version": 3
   },
   "file_extension": ".py",
   "mimetype": "text/x-python",
   "name": "python",
   "nbconvert_exporter": "python",
   "pygments_lexer": "ipython3",
   "version": "3.6.3"
  }
 },
 "nbformat": 4,
 "nbformat_minor": 2
}
